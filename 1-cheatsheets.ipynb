{
 "cells": [
  {
   "cell_type": "markdown",
   "id": "19a8e318-2c4d-4d6f-8dd6-6c3566ac58b8",
   "metadata": {},
   "source": [
    "# Partial Derivative\n",
    "\n",
    "### In single variable calculus, the derivative of a function  is the slope of the tangent line at , which is defined by the following limit:\n",
    "\n",
    "# $$f'(x) = \\frac{\\partial f}{\\partial x} = \\lim_{\\Delta x \\to 0} \\frac{f(x + \\Delta x) - f(x)}{\\Delta x}$$\n",
    "\n",
    "### the above describes partial derivative of $f$ with respect to $x$"
   ]
  },
  {
   "cell_type": "markdown",
   "id": "fa064670-9438-4145-914a-7c92fa0f3439",
   "metadata": {},
   "source": [
    "# The partial derivative of $f(x, y)$ with respect to $x$ is defined by\n",
    "\n",
    "# $$f'(x, y) = \\lim_{\\Delta x \\to 0} \\frac{f(x + \\Delta x, y) - f(x, y)}{\\Delta x}$$\n",
    "\n",
    "# The Leibniz notation for this is:\n",
    "\n",
    "# $$ \\frac{\\partial f}{\\partial c}"
   ]
  },
  {
   "cell_type": "code",
   "execution_count": null,
   "id": "13563f3c-c3c4-44ed-a5be-eb7f70232e7c",
   "metadata": {},
   "outputs": [],
   "source": []
  }
 ],
 "metadata": {
  "kernelspec": {
   "display_name": "Python 3",
   "language": "python",
   "name": "python3"
  },
  "language_info": {
   "codemirror_mode": {
    "name": "ipython",
    "version": 3
   },
   "file_extension": ".py",
   "mimetype": "text/x-python",
   "name": "python",
   "nbconvert_exporter": "python",
   "pygments_lexer": "ipython3",
   "version": "3.8.8"
  }
 },
 "nbformat": 4,
 "nbformat_minor": 5
}
