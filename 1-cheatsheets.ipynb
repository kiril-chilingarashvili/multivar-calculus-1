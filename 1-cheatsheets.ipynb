{
 "cells": [
  {
   "cell_type": "markdown",
   "id": "19a8e318-2c4d-4d6f-8dd6-6c3566ac58b8",
   "metadata": {},
   "source": [
    "## Partial Derivative\n",
    "\n",
    "### In single variable calculus, the derivative of a function  is the slope of the tangent line at , which is defined by the following limit:\n",
    "\n",
    "# $$f'(x) = \\frac{\\partial f}{\\partial x} = \\lim_{\\Delta x \\to 0} \\frac{f(x + \\Delta x) - f(x)}{\\Delta x}$$\n",
    "\n",
    "### the above describes partial derivative of $f$ with respect to $x$"
   ]
  },
  {
   "cell_type": "markdown",
   "id": "fa064670-9438-4145-914a-7c92fa0f3439",
   "metadata": {},
   "source": [
    "# The partial derivative of $f(x, y)$ with respect to $x$ is defined by\n",
    "\n",
    "# $$f'(x, y) = \\lim_{\\Delta x \\to 0} \\frac{f(x + \\Delta x, y) - f(x, y)}{\\Delta x}$$\n",
    "\n",
    "# The Leibniz notation for this is:\n",
    "\n",
    "# $$ \\frac{\\partial f}{\\partial x}$$"
   ]
  },
  {
   "cell_type": "markdown",
   "id": "bc6aaac4-4af8-4d1e-9c7a-a3bd6ad5ed43",
   "metadata": {},
   "source": [
    "# The partial derivative of $f(x, y)$ with respect to $y$ is defined by\n",
    "\n",
    "# $$f'(x, y) = \\lim_{\\Delta y \\to 0} \\frac{f(x, y + \\Delta y) - f(x, y)}{\\Delta y}$$\n",
    "\n",
    "# The Leibniz notation for this is:\n",
    "\n",
    "# $$ \\frac{\\partial f}{\\partial y}$$"
   ]
  },
  {
   "cell_type": "markdown",
   "id": "1171dc62-bfad-45da-bf1f-4075e49dd5b7",
   "metadata": {},
   "source": [
    "### Recall that an approximation for the slope of the tangent line near a point  is the slope of the secant line between the points $(x_0, f(x_0))$ and $(x_0 + \\Delta x, f(x_0 + \\Delta x))$. This means that:\n",
    "\n",
    "# $$ \\underbrace{f' (x_0)}_{\\text{Slope of tangent line}} \\approx \\underbrace{  \\frac{f(x_0 + \\Delta x) - f(x_0)}{(x_0 + \\Delta x) - x_0}  }_{\\text{Slope of secant line}} = \\frac{f(x_0 + \\Delta x) - f(x_0)}{\\Delta x}$$"
   ]
  },
  {
   "cell_type": "markdown",
   "id": "8b02e11f-92a2-4111-a61c-534e5f3ad210",
   "metadata": {},
   "source": [
    "### Solving for the term $f(x_0 + \\Delta x)$  gives the linear approximation for the function $f(x)$ near $x_0$:\n",
    "\n",
    "# $$ f(x_0 + \\Delta x) \\approx f(x_0) + f'(x_0) \\Delta x $$"
   ]
  },
  {
   "cell_type": "markdown",
   "id": "c3d9cd60-ac1e-4aeb-97ff-674d1a5f893d",
   "metadata": {},
   "source": [
    "### The same idea can be applied to functions of more than one variable. Just as we saw in the single variable case, the partial derivative with respect to $x$ evaluated at a point $x_0$ can be approximated by\n",
    "\n",
    "# $$ f_x (x_0, y_0) = \\frac{f(x_0 + \\Delta x, y_0) - f(x_0, y_0)}{\\Delta x}$$\n"
   ]
  },
  {
   "cell_type": "markdown",
   "id": "811958b9-61ea-4a28-9bf5-d401826fc751",
   "metadata": {},
   "source": [
    "### Solving for the term $f(x_0 + \\Delta x, y_0)$, gives\n",
    "\n",
    "# $$ f(x_0 + \\Delta x, y_0) \\approx f(x_0, y_0) + f_x(x_0, y_0) \\Delta x $$\n",
    "\n",
    "### We can apply the same argument for $f_y$ to obtain\n",
    "\n",
    "# $$ f(x_0, y_0 + \\Delta y) \\approx f(x_0, y_0) + f_y(x_0, y_0) \\Delta y $$\n",
    "\n",
    "## Or\n",
    "\n",
    "# $$ f(x_0 + \\Delta x, y_0 + \\Delta y) \\approx f(x_0, y_0) + f_x(x_0, y_0) \\Delta x + f_y(x_0, y_0) \\Delta y $$"
   ]
  },
  {
   "cell_type": "markdown",
   "id": "977f2086-2fea-496c-b049-1721070e6d19",
   "metadata": {},
   "source": [
    "## The level curves of a function $f(x, y)$ are given by $f(x, y) = k$ where $k$ is a constant\n",
    "\n"
   ]
  },
  {
   "cell_type": "markdown",
   "id": "a21f1c69-fc28-45ed-8a2e-f4d591d39c26",
   "metadata": {},
   "source": [
    "# The linear approximation of a function $f(x, y)$ near a point $(a, b)$ is the equation for a *tangent plane*.\n",
    "\n",
    "## The equation for the tangent plane is\n",
    "\n",
    "# $$ f(x, y) \\approx f(a, b) + f_x(a, b) (x - a) + f_y(a, b) (y - b) $$\n",
    "\n",
    "## or in terms of $\\Delta x$ and $\\Delta y$, it can be written as\n",
    "\n",
    "# $$ f(a + \\Delta x, b + \\Delta y) \\approx f(a, b) + f_x(a, b) \\Delta x + f_y(a, b) \\Delta y $$\n",
    "\n",
    "## Geometrically, the tangent plane of a two variable function $f(x, y)$ at a point $(a, b)$ is a plane that contains the slope of every line tangent to the surface $z = f(x, y)$ at the point $(a, b, f(a,  b))$.\n",
    "\n",
    "![Tangent Plane](img/tangent-plane.png)"
   ]
  },
  {
   "cell_type": "code",
   "execution_count": null,
   "id": "d2c1cc81-ac46-4ca4-b54e-5cd35bf983e7",
   "metadata": {},
   "outputs": [],
   "source": []
  }
 ],
 "metadata": {
  "kernelspec": {
   "display_name": "Python 3",
   "language": "python",
   "name": "python3"
  },
  "language_info": {
   "codemirror_mode": {
    "name": "ipython",
    "version": 3
   },
   "file_extension": ".py",
   "mimetype": "text/x-python",
   "name": "python",
   "nbconvert_exporter": "python",
   "pygments_lexer": "ipython3",
   "version": "3.8.8"
  }
 },
 "nbformat": 4,
 "nbformat_minor": 5
}
