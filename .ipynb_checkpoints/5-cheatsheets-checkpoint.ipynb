{
 "cells": [
  {
   "cell_type": "markdown",
   "id": "d4ccf96c-9253-4d71-acc7-a2445c63bc28",
   "metadata": {},
   "source": [
    "# Unit 5: Curves and Surfaces"
   ]
  },
  {
   "cell_type": "markdown",
   "id": "e7467395-5f78-445c-8d9f-793aa4dd24fc",
   "metadata": {},
   "source": [
    "### Given a matrix $A$, we write $A^T$ for the matrix whose entry in row $i$ and column $j$ is given by the entry in row $j$ and column $i$ of $A$. This $A^T$ is called the ***transpose*** of $A$. For example:\n",
    "# $$ A = \\begin{pmatrix} 1 & 2 \\\\ 3 & 4 \\end{pmatrix} \\iff A^T = \\begin{pmatrix} 1 & 3 \\\\ 2 & 4 \\end{pmatrix} $$"
   ]
  },
  {
   "cell_type": "markdown",
   "id": "56abc87e-8815-4386-b63f-4bb6ab308ff4",
   "metadata": {},
   "source": [
    "### A square matrix $A$ is called ***orthogonal*** if\n",
    "# $$ A^T = A^{-1} $$"
   ]
  },
  {
   "cell_type": "markdown",
   "id": "6ae8e146-57d6-47e3-84e9-90a73da4da2e",
   "metadata": {},
   "source": [
    "## Vector magnitude\n",
    "\n",
    "### The magnitude of a vector $\\vec{v} = \\langle v_1, v_, v_3 \\rangle is given by\n",
    "## $$ \\lvert \\vec{v} \\rvert = \\sqrt{v_1^2+v_2^2+v_3^2} $$"
   ]
  },
  {
   "cell_type": "markdown",
   "id": "913a52b0-2067-4e9f-a724-20b98abdc3c1",
   "metadata": {},
   "source": [
    "## Remark 2.3\n",
    "\n",
    "### ***Warning***: The formula for the magnitude in the definition only works because we write the coordinates of our vectors with respect to an orthonormal basis. \n",
    "### That is\n",
    "## $$ \\begin{pmatrix} v_1 \\\\ v_2 \\\\ v_3 \\end{pmatrix} = v_1 \\begin{pmatrix} 1 \\\\ 0 \\ 0 \\end{pmatrix} + v_2 \\begin{pmatrix} 0 \\\\ 1 \\\\ 0 \\end{pmatrix} + v_3 \\begin{pmatrix} 0 \\\\ 0 \\\\ 1 \\end{pmatrix} $$\n",
    "### where $\\begin{pmatrix} 1 \\\\ 0 \\\\ 0 \\end{pmatrix}$, $\\begin{pmatrix} 0 \\\\ 1 \\\\ 0 \\end{pmatrix}$, $\\begin{pmatrix} 0 \\\\ 0 \\\\ 1 \\end{pmatrix}$ are all unit length and mutually orthogonal. There are ways to write vectors with respect to generic bases that are not orthonormal, and this formula would not hold!"
   ]
  },
  {
   "cell_type": "markdown",
   "id": "948c69d3-aeb4-4281-8eee-c4240a049ed0",
   "metadata": {},
   "source": [
    "## Dot product\n",
    "\n",
    "### The dot product of vectors $\\vec{v} = \\langle v_1, v_2, v_3 \\rangle$ and $\\vec{w} = \\langle w_1, w_2, w_3 \\rangle$ is the scalar quantity\n",
    "## $$ \\vec{v} \\cdot \\vec{w} = v_1 w_1 + v_2 w_2 + v_3 w_3 $$\n",
    "### In 3D, we can also interpret the dot product as\n",
    "## $$ \\vec{v} \\cdot \\vec{w} = \\lvert \\vec{v} \\rvert \\lvert \\vec{w} \\rvert cos(\\theta) $$\n",
    "### where $\\theta$ is the angle between the two vectors (as measured within the plane that contains both vectors)."
   ]
  },
  {
   "cell_type": "markdown",
   "id": "94aeb9da-a889-4330-a2b5-7dce53775b2a",
   "metadata": {},
   "source": [
    "## Equations of planes\n",
    "\n"
   ]
  }
 ],
 "metadata": {
  "kernelspec": {
   "display_name": "Python 3",
   "language": "python",
   "name": "python3"
  },
  "language_info": {
   "codemirror_mode": {
    "name": "ipython",
    "version": 3
   },
   "file_extension": ".py",
   "mimetype": "text/x-python",
   "name": "python",
   "nbconvert_exporter": "python",
   "pygments_lexer": "ipython3",
   "version": "3.8.2"
  }
 },
 "nbformat": 4,
 "nbformat_minor": 5
}
