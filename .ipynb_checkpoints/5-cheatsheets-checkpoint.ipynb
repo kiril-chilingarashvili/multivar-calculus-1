{
 "cells": [
  {
   "cell_type": "markdown",
   "id": "d4ccf96c-9253-4d71-acc7-a2445c63bc28",
   "metadata": {},
   "source": [
    "# Unit 5: Curves and Surfaces"
   ]
  },
  {
   "cell_type": "markdown",
   "id": "56abc87e-8815-4386-b63f-4bb6ab308ff4",
   "metadata": {},
   "source": [
    "### A square matrix $A$ is called ***orthogonal*** if\n",
    "# $$ A^T = A^{-1} $$"
   ]
  },
  {
   "cell_type": "markdown",
   "id": "6ae8e146-57d6-47e3-84e9-90a73da4da2e",
   "metadata": {},
   "source": [
    "## Vector magnitude\n",
    "\n",
    "### The magnitude of a vector $\\vec{v} = \\langle v_1, v_, v_3 \\rangle$ is given by\n",
    "## $$ \\lvert \\vec{v} \\rvert = \\sqrt{v_1^2+v_2^2+v_3^2} $$"
   ]
  },
  {
   "cell_type": "markdown",
   "id": "913a52b0-2067-4e9f-a724-20b98abdc3c1",
   "metadata": {},
   "source": [
    "## Remark 2.3\n",
    "\n",
    "### ***Warning***: The formula for the magnitude in the definition only works because we write the coordinates of our vectors with respect to an orthonormal basis. \n",
    "### That is\n",
    "## $$ \\begin{pmatrix} v_1 \\\\ v_2 \\\\ v_3 \\end{pmatrix} = v_1 \\begin{pmatrix} 1 \\\\ 0 \\ 0 \\end{pmatrix} + v_2 \\begin{pmatrix} 0 \\\\ 1 \\\\ 0 \\end{pmatrix} + v_3 \\begin{pmatrix} 0 \\\\ 0 \\\\ 1 \\end{pmatrix} $$\n",
    "### where $\\begin{pmatrix} 1 \\\\ 0 \\\\ 0 \\end{pmatrix}$, $\\begin{pmatrix} 0 \\\\ 1 \\\\ 0 \\end{pmatrix}$, $\\begin{pmatrix} 0 \\\\ 0 \\\\ 1 \\end{pmatrix}$ are all unit length and mutually orthogonal. There are ways to write vectors with respect to generic bases that are not orthonormal, and this formula would not hold!"
   ]
  },
  {
   "cell_type": "markdown",
   "id": "948c69d3-aeb4-4281-8eee-c4240a049ed0",
   "metadata": {},
   "source": [
    "## Dot product\n",
    "\n",
    "### The dot product of vectors $\\vec{v} = \\langle v_1, v_2, v_3 \\rangle$ and $\\vec{w} = \\langle w_1, w_2, w_3 \\rangle$ is the scalar quantity\n",
    "## $$ \\vec{v} \\cdot \\vec{w} = v_1 w_1 + v_2 w_2 + v_3 w_3 $$\n",
    "### In 3D, we can also interpret the dot product as\n",
    "## $$ \\vec{v} \\cdot \\vec{w} = \\lvert \\vec{v} \\rvert \\lvert \\vec{w} \\rvert cos(\\theta) $$\n",
    "### where $\\theta$ is the angle between the two vectors (as measured within the plane that contains both vectors)."
   ]
  },
  {
   "cell_type": "markdown",
   "id": "94aeb9da-a889-4330-a2b5-7dce53775b2a",
   "metadata": {},
   "source": [
    "## Equations of planes\n",
    "\n",
    "### The equation\n",
    "## $$ 2 x + 2 y + z = 0 $$\n",
    "\n",
    "### is the equation for a plane. This equation can be written in terms of a “hidden dot product\"\n",
    "## $$ \\langle 2,2,1 \\rangle \\cdot \\langle x,y,z \\rangle = 0 $$\n",
    "\n",
    "### Therefore the following three statements are equivalent:\n",
    "### - A point $(x, y, z)$ lies on the plane defined by the equation $ 2 x + 2 y + z = 0 $\n",
    "### - $ \\langle 2,2,1 \\rangle \\cdot \\langle x,y,z \\rangle = 0 $\n",
    "### - $ \\langle x,y,z \\rangle $ is perpendicular to $\\langle 2,2,1 \\rangle$\n",
    "\n",
    "### For example to check the questions:\n",
    "### Do point $(1.5, -2, 1)$ lie on the plane $ 2 x + 2 y + z = 0 $?\n",
    "### We check if equation\n",
    "## $$ \\langle 2,2,1 \\rangle \\cdot \\langle 1.5,-2,1 \\rangle = 0 $$\n",
    "### is true, and if it is - then the point ***is on the plane***"
   ]
  },
  {
   "cell_type": "markdown",
   "id": "1b0243df-9465-43ac-8600-f6015c74d035",
   "metadata": {},
   "source": [
    "### - The equation $ax+by+cz=0$ describes the plane that is perpendicular to the vector $\\langle a,b,c \\rangle$ and passes through the origin $(0,0,0)$.\n",
    "### - The equation $ax+by+cz=0$ describes a plane that is perpendicular to the vector $\\langle a,b,c \\rangle$."
   ]
  },
  {
   "cell_type": "markdown",
   "id": "83dac610-0918-438d-9854-787b3accb69d",
   "metadata": {},
   "source": [
    "## Functions of three variables\n",
    "\n",
    "### A function of three variables $f(x, y, z)$ depends on three independent variables.\n",
    "\n",
    "### Definition 4.1\n",
    "### The domain of $f(x,y,z)$ is the set of points $(x,y,z)$ in 3D space such that $f$ is defined.\n",
    "\n",
    "### Examples 4.2\n",
    "### - The function $f(x,y,z)=2x+2y+z$ is defined for all points $(x,y,z)$ in 3 dimensional space. We say that the domain is $\\mathbb{R}^3$ (spoken as \"R\" \"3\").\n",
    "### - The domain of the function $f(x,y,z)=x^2+y^2+z^2$ is $\\mathbb{R}^3$.\n",
    "### - The domain of the function $f(x,y,z)=\\sqrt{1 - (x^2+y^2+z^2)}$ is the set of points $(x,y,z)$ such that $x^2+y^2+z^2 \\leq 1$. This set describes a solid ball of radius 1."
   ]
  },
  {
   "cell_type": "markdown",
   "id": "25bcf3fa-14c9-410b-a9ac-b7a98a024a11",
   "metadata": {},
   "source": [
    "## Visualizing function of three variables\n",
    "\n",
    "### We try to visualize a function $f(x,y,z)$ similarly to the way we used level curves or contour plots to understand functions of two variables.\n",
    "\n",
    "### Definition 4.3\n",
    "### For any real number $k$, we can consider the set of points $(x,y,z)$ such that the relation $f(x,y,z)=k$ holds. This set of points is known as a ***level surface*** of the function $f(x,y,z)$. For differentiable functions $f(x,y,z)$, its level surfaces will be smooth surfaces that sit in three-dimensional space."
   ]
  },
  {
   "cell_type": "markdown",
   "id": "dc6a18bc-b5c4-45c4-9a33-f365e1633184",
   "metadata": {},
   "source": [
    "### Examples 4.4\n",
    "\n",
    "### - The level surfaces of $f(x,y,z)=2x+2y+z$ are the parallel planes. The plane $2x+2y+z=k$ is the plane perpendicular to $ \\langle 2,2,1 \\rangle$ through the point $(0,0,k)$.\n",
    "\n",
    "![Level Surfaces 1](img/level-surf-1.png)\n",
    "\n",
    "### Lets find the level surfaces of the function $f(x,y,z)=x^2+y^2+z^2$.\n",
    "### - The surface $x^2+y^2+z^2=1$ is described as the set of points $(x,y,z)$ such that\n",
    "## $$ 1 = \\langle x,y,z \\rangle \\cdot \\langle x,y,z \\rangle = \\lvert \\langle x,y,z \\rangle \\rvert = 1 $$\n",
    "### Therefore this is the set of points $(x,y,z)$ such that the vector $\\langle x,y,z \\rangle$ has unit length. This exactly describes the unit sphere about the origin.\n",
    "### - The surface $x^2+y^2+z^2=2$ describes the sphere of radius $\\sqrt{2}$ centered at the origin.\n",
    "\n",
    "![Level Surfaces 2](img/level-surf-2.png)"
   ]
  },
  {
   "cell_type": "markdown",
   "id": "e99d85cf-b50b-4550-b671-548c33a6dd86",
   "metadata": {},
   "source": [
    "## Partial derivatives\n",
    "\n",
    "### Definition 5.1\n",
    "### Given a continuous function $f(x,y,z)$,\n",
    "### - The $x$-partial derivative is written as $\\frac{\\partial f}{\\partial x}$ or $f_x$, and is taken by taking the derivative with respect to $x$ while holding all other variables fixed.\n",
    "## $$ \\lim_{h \\to 0} \\frac{f(x + h, y, z) - f(x, y, z)}{h} $$\n",
    "### - The $y$-partial derivative is written as $\\frac{\\partial f}{\\partial y}$ or $f_y$, and is taken by taking the derivative with respect to $y$ while holding all other variables fixed.\n",
    "## $$ \\lim_{h \\to 0} \\frac{f(x, y + h, z) - f(x, y, z)}{h} $$\n",
    "### - The $z$-partial derivative is written as $\\frac{\\partial f}{\\partial z}$ or $f_z$, and is taken by taking the derivative with respect to $z$ while holding all other variables fixed.\n",
    "## $$ \\lim_{h \\to 0} \\frac{f(x, y, z + h) - f(x, y, z)}{h} $$\n",
    "\n",
    "### The partial derivatives measure how the function $f(x,y,z)$ changes as you change each variable independently. We can use these partial derivatives to get an overall approximation to the function in a small region about a point $(x_0,y_0,z_0)$."
   ]
  },
  {
   "cell_type": "markdown",
   "id": "56796079-15d9-4d2f-a6a4-97723e61b65b",
   "metadata": {},
   "source": [
    "## Gradient\n",
    "### Definition 5.2\n",
    "### The gradient of a function $f(x,y,z)$ is the vector field\n",
    "## $$ \\nabla f = \\langle f_x, f_y, f_z \\rangle $$"
   ]
  },
  {
   "cell_type": "markdown",
   "id": "a73f4479-050c-430d-abe1-ddcdf1d76bd7",
   "metadata": {},
   "source": [
    "## Theorem \n",
    "### The gradient of a function $f(x,y,z)$ is ***normal*** to the level surfaces $f(x,y,z)=c$.\n",
    "### Example 5.4\n",
    "### Let's consider the linear function $w=a_1 x+a_2 y+a_3 z$. The gradient is\n",
    "## $$ \\nabla w= \\langle a1,a2,a3 \\rangle $$\n",
    "### The level curves are the functions\n",
    "## $$ a_1 x+a_2 y+a_3 z = constant $$\n",
    "### These level curves are the equations of planes whose normal vector is $\\langle a_1,a_2,a_3 \\rangle$. Thus the normal vector is exactly the gradient."
   ]
  },
  {
   "cell_type": "markdown",
   "id": "ae0065c1-2af9-47c0-a0e5-4d3ee9cc9730",
   "metadata": {},
   "source": [
    "### Intuitively speaking, when a vector is normal to a surface at a point $p$, the vector points “straight out of the surface\" at $p$. It could also point “straight in to the surface\" depending on the orientation. Imagining the surface as approximated by a tangent plane at $p$, the normal vector will be the normal vector of this tangent plane.\n",
    "\n",
    "### Example 5.5\n",
    "### Question. \n",
    "### Let $S$ be the unit sphere $x^2+y^2+z^2=1$. Find a vector $\\vec{n}$  that is normal to $S$ at a point $(x,y,z)$ on the unit sphere.\n",
    "### Solution\n",
    "### The unit sphere is the level curve of height 1 of the function $f(x,y,z)=x^2+y^2+z^2$. The gradient of $f$ is\n",
    "## $$ \\nabla f(x,y,z) = \\langle 2x,2y,2z \\rangle $$\n",
    "### The gradient is normal to the level curves of $f$. In particular, it is normal to the unit sphere. Thus we have\n",
    "### - $ \\langle 2x,2y,2z \\rangle$ is normal to $S$ at $(x,y,z)$, or dividing by the scalar,\n",
    "### - $ \\langle x,y,z \\rangle $ is normal to S at (x,y,z)\n",
    "![Gradient](img/3-gradient.png)"
   ]
  },
  {
   "cell_type": "markdown",
   "id": "8f1f5d3f-45f3-49f9-abc6-21691ee53737",
   "metadata": {},
   "source": [
    "## Linear approximation\n",
    "### Definition 6.1\n",
    "### The linear approximation*** of a differentiable function $f(x,y,z)$ near a point $(x_0,y_0,z_0)$ is given by\n",
    "## $$ f(x_0 + \\Delta x, y_0 + \\Delta y, z_0 + \\Delta z) \\approx f(x_0, y_0, z_0) + f_x(x_0, y_0, z_0) \\Delta x + f_y(x_0, y_0, z_0) \\Delta y + f_z(x_0, y_0, z_0) \\Delta z $$\n",
    "\n",
    "### Alternatively, we can write this linear approximation in terms of $x$, $y$, and $z$ as:\n",
    "## $$ f(x, y, z) \\approx f(x_0, y_0, z_0) + f_x(x_0, y_0, z_0) (x - x_0) + f_y(x_0, y_0, z_0) (y - y_0) + f_z(x_0, y_0, z_0) (z - z_0) $$"
   ]
  },
  {
   "cell_type": "markdown",
   "id": "3e85c5eb-ccb5-4e3e-817c-c6573f3a43bd",
   "metadata": {},
   "source": [
    "### Remark 6.2\n",
    "### The linear approximation can be written more succinctly using the gradient notation.\n",
    "## $$ f(x_0 + \\Delta x, y_0 + \\Delta y, z_0 + \\Delta z) \\approx f(x_0, y_0, z_0) + \\nabla f(x_0, y_0, z_0) \\cdot \\langle \\Delta x, \\Delta y, \\Delta z \\rangle$$\n",
    "### Rewriting this as\n",
    "## $$ \\underbrace{f(x_0 + \\Delta x, y_0 + \\Delta y, z_0 + \\Delta z)}_{\\text{change in }f, \\Delta f} \\approx f(x_0, y_0, z_0) + \\nabla f(x_0, y_0, z_0) \\cdot \\langle \\Delta x, \\Delta y, \\Delta z \\rangle$$\n",
    "### we can express the change in $f$ near $(x_0,y_0,z_0)$ as\n",
    "## $$ \\Delta f \\approx f(x_0, y_0, z_0) + \\nabla f(x_0, y_0, z_0) \\cdot \\langle \\Delta x, \\Delta y, \\Delta z \\rangle$$\n",
    "\n"
   ]
  },
  {
   "cell_type": "markdown",
   "id": "e7a9b763-8c8e-4f85-b212-7f9bcea61d92",
   "metadata": {},
   "source": [
    "### Example 6.3\n",
    "### ***Question***: Find the equation of the tangent plane to the surface\n",
    "## $$ x^2 + y^2 - z^2 = 4 $$\n",
    "### at the point $(2, 1, 1)$\n",
    "### ***Solution***: The function $g(x,y,z)=x^2+y^2-z^2$ is a hyperboloid. We know that the gradient of the function $g(x,y,z)=x^2+y^2-z^2$ is normal to its level surface $g(x,y,z)=4$.\n",
    "### The gradient is:\n",
    "## $$ \\nabla g(x,y,z) = \\langle 2x,2y,-2z \\rangle $$\n",
    "## $$ \\nabla g(2,1,1) = \\langle 4,2,-2 \\rangle $$\n",
    "### This vector is both the normal vector to the level surface, as well as the normal vector to the tangent plane at $(2,1,1)$. So the equation of the tangent plane is the equation of a plane normal to this vector, which can be written as\n",
    "## $$ 4 x + 2 y - 2 z = c $$\n",
    "### where $c$ is a constant. To solve for the constant, we plug in a point that lies on the plane. In particular, the only point we know, which is $(2,1,1)$. This gives us\n",
    "## $$ 4 x + 2 y - 2 z = 8 + 2 - 2 = 8 $$\n",
    "### We can simplify the equation by dividing through by $2$ if we want.\n",
    "## $$ 2 x + y - z = 4 $$\n",
    "![Example](img/example-6-3.png)"
   ]
  },
  {
   "cell_type": "markdown",
   "id": "dc6ad291-2db6-4d6d-82da-62b73b60c565",
   "metadata": {},
   "source": [
    "## Theorem\n",
    "\n",
    "### The level plane of the linear approximation of a function $f(x,y,z)$ at a point $(x_0,y_0,z_0)$ is the plane $\\nabla f(x_0,y_0,z_0) \\cdot \\langle x,y,z \\rangle = \\nabla f(x_0,y_0,z_0) \\cdot \\langle x_0,y_0,z_0 \\rangle$, which is called the tangent plane at the point $(x_0,y_0,z_0)$."
   ]
  },
  {
   "cell_type": "markdown",
   "id": "b6f51ff8-1978-42ac-b6b5-b1136451e7e8",
   "metadata": {},
   "source": [
    "### Let's look at the level surface of a function $f(x_0,y_0,z_0)=c$. If we look at points $(x_0+\\Delta x,y_0+\\Delta y,z_0+ \\Delta z)$ that also lie on this level surface, we can use the approximation formula, which says that for $\\Delta x$, $\\Delta y$, and $\\Delta z$, the change in the function is approximately\n",
    "## $$ \\Delta f \\approx \\nabla \\cdot \\langle \\Delta x, \\Delta y, \\Delta z \\rangle $$\n",
    "\n",
    "### However, if we are staying within the level surface, this tells us that $\\Delta f=0$. That is, the condition that we are locally in the level surface, is equivalent to saying that\n",
    "## $$ 0 \\approx \\nabla f \\cdot \\langle \\Delta x, \\Delta y, \\Delta z \\rangle $$\n",
    "### We can rewrite this as\n",
    "## $$ 0 \\approx \\nabla f \\cdot \\langle x, y, z \\rangle - \\nabla f \\cdot \\langle x_0, y_0, z_0 \\rangle $$\n",
    "### Thus the plane defined by\n",
    "## $$ \\nabla f (x_0, y_0, z_0) \\cdot \\langle x, y, z \\rangle = \\nabla f (x_0, y_0, z_0) \\cdot \\langle x_0, y_0, z_0 \\rangle $$\n",
    "### This plane is called the ***tangent plane***. It is the linear approximation to the level surface $f(x,y,z)=c$ at the point $(x_0,y_0,z_0)$.\n",
    "### Observe that this is the 3 dimensional analogue of the fact that as we zoom in on any function of 2 variables $f(x,y)$, its level curves are closer and closer to the level curves of its tangent plane, which are parallel lines. That is, as we zoom in on a function of 3 variables $f(x,y,z)$, the level surfaces become indistinguishable from the parallel planes that are the level surfaces of the linear approximation."
   ]
  },
  {
   "cell_type": "markdown",
   "id": "40a58547-9e9e-4746-afa2-ec115a6b7996",
   "metadata": {},
   "source": [
    "## Definition 8.2\n",
    "### The ***critical points*** of a function $w=f(x,y,z)$ are the points ***in the domain of definition*** where the gradient is zero (meaning $\\nabla w = \\vec{0}$ ), or the gradient is undefined."
   ]
  },
  {
   "cell_type": "markdown",
   "id": "84a5673f-2a20-426c-a85f-e8af2905acc9",
   "metadata": {},
   "source": [
    "## Constrained optimization in 3 or more variables\n",
    "### How are level surfaces related to constrained optimization?\n",
    "### We wish to find the maximum and minimum value of a function $f(x,y,z)$ restricted to a surface defined by $g(x,y,z)=3$.\n",
    "![Constrain Optimization](img/constrained-optimization-3-var.png)\n",
    "\n",
    "### A function $f(x,y,z)$ has level surfaces $f(x,y,z)=c$. Five level surfaces are shown in the image above. The values of $c$ defining the level surfaces increase as $x$ decreases. The gray ellipsoid is the level surface defined by $g(x,y,z)=3$ such that $g(x,y,z)<3$ inside of the level surface, and $g(x,y,z)>3$ outside of the level surface.\n",
    "### Lagrange multipliers - The maximum and minimum of the function $f(x,y,z)$ restricted to the surface $g(x,y,z)=3$ is given at the locations where $\\nabla f = \\lambda \\nabla g$. That is, the normal vector to the constraint surface and the normal vector to the level surface of $f$ point in the same or opposite direction.\n",
    "### In fact, the maximum occurs at the point where $\\nabla f$ is pointing in the same direction as $\\nabla g$. And the minimum occurs at the point where $\\nabla f$ is in the opposite direction. At these locations, the tangent plane to the level surface of $f$ is exactly equal to the tangent plane to the surface defined by $g=3$.\n",
    "![Constrain Optimization](img/constrained-optimization-3-var-2.png)\n",
    "\n"
   ]
  },
  {
   "cell_type": "markdown",
   "id": "9f2131a4-3cb4-4d48-b6ad-b85e18fa034f",
   "metadata": {},
   "source": [
    "## Parametric curves\n",
    "\n",
    "### Imagine a particle moving through two-dimensional space. We can describe the motion of the particle by specifying the position of the particle at time $t$, where $t$ runs through a set of values. For example, let's imagine a particle whose position at time $t$ is given by the $x$,$y$-coordinates $(t^2,1+t^2)$, where $0 \\leq t < \\infty$.\n",
    "### By plotting a few points, we can see that the particle moves in a straight line from the point $(0,1)$ in the north-eastern direction.\n",
    "![Parametric Example](img/parametric-example.png)\n",
    "### In the image above, we have plotted the particle's ***trajectory***, that is, the set of points that the particle goes through. We can imagine letting the tip of a pencil follow the particle around on a piece of paper, which creates this image of the particle's trajectory.\n",
    "### Equations such as $x(t)=t^2$ and $y(t)=1+t^2$ for $0 \\leq t < \\infty$ are known as ***parametric equations***. The terminology comes from the fact that $x$ and $y$ each depend on the ***parameter*** $t$.\n",
    "\n",
    "### Some questions we will be interested in answering:\n",
    "### - What is the particle's velocity at time $t$?\n",
    "### - What is the particle's speed at time $t$?\n",
    "### - Is there a way to see that $(t^2,1+t^2)$ describes a straight line without plotting points?\n",
    "\n",
    "### Straight-line trajectory\n",
    "### Can we get a better feeling for the motion described by $(t^2,1+t^2)$? \n",
    "### One approach is to use the language of vector arithmetic. We can represent the point $(t^2,1+t^2)$ by the vector \n",
    "## $$\\begin{pmatrix} t^2 \\\\ 1+t^2 \\end{pmatrix}$$\n",
    "### Then, we can separate this vector into the sum of vectors:\n",
    "## $$ \\begin{pmatrix} t^2 \\\\ 1+t^2 \\end{pmatrix} = \\begin{pmatrix} 0 \\\\ 1 \\end{pmatrix} + t^2 \\begin{pmatrix} 1 \\\\ 1 \\end{pmatrix} $$\n",
    "### This form gives better insight into the motion of the particle. We can see that at $t=0$, the particle will be at the point $(0,1)$, and as $t$ increases, it moves along the vector $\\begin{pmatrix} 1 \\\\ 1 \\end{pmatrix}$. Since the vector $\\begin{pmatrix} 1 \\\\ 1 \\end{pmatrix}$ doesn't depend on $t$, the trajectory of the particle is indeed a straight line. In fact, the trajectory's line is parallel to the vector $\\begin{pmatrix} 1 \\\\ 1 \\end{pmatrix}$."
   ]
  },
  {
   "cell_type": "markdown",
   "id": "bc4d2b1c-0871-4160-9d00-1f8fc2b5b9aa",
   "metadata": {},
   "source": [
    "### Remark 2.1  (Parameterizing a Line) \n",
    "### In general, the parametric equation $(x(t),y(t))=\\vec{v} +f(t) \\vec{w}$  for vectors $\\vec{v}$ ,$\\vec{w}$  and any function $f(t)$, gives a trajectory that is contained within a straight line. The point $\\vec{v}$  will be the starting point at $t=0$, and the vector $\\vec{w}$  will be parallel to the trajectory's line."
   ]
  },
  {
   "cell_type": "markdown",
   "id": "2029d8f0-cda1-4d55-9868-e924e6e579f0",
   "metadata": {},
   "source": [
    "## A parametric equation is a vector-valued function\n",
    "\n",
    "### It is common to think of a pair of parametric equations $(x(t),y(t))$ as a two-dimensional vector that varies with the parameter $t$. It is standard to use the letter $\\vec{r}$  to represent this vector.\n",
    "## $$ \\vec{r}(t) = \\begin{pmatrix} x(t) \\\\ y(t) \\end{pmatrix} $$\n",
    "### or sometimes just $\\vec{r}$ , if the parameter $t$ is clear from context. Technically, $\\vec{r}$  is known as a vector-valued function, which means it is a function whose output is a vector. The input to the vector-valued function $\\vec{r}$  is the parameter $t$.\n",
    "\n",
    "### Remark 2.2\n",
    "### The notation $\\vec{r}$ is used quite often for the position vector at a time $t$, sometimes without explicit comment. It will be important to recognize this meaning when such notation is seen."
   ]
  },
  {
   "cell_type": "markdown",
   "id": "666dd336-934c-485d-a8af-c5799b981bba",
   "metadata": {},
   "source": [
    "## Trajectory versus Motion\n",
    "### It is important to remember that the particle's trajectory is not the same as the particle's motion. Looking only at the plot of the trajectory, we would not be able to tell the speed of the particle or the direction of motion.\n",
    "### Can we figure out the speed and direction of motion just by looking at the formulas for $x(t)$ and $y(t)$? The answer is yes, but first, we need to clarify the difference between ***speed*** and ***velocity***."
   ]
  },
  {
   "cell_type": "markdown",
   "id": "2fb14ccb-387d-4d31-964c-ff193f894a2e",
   "metadata": {},
   "source": [
    "## Speed versus Velocity\n",
    "### ***Speed*** is a nonnegative real number that measures how fast the particle is moving. If you were to toss a tennis ball in the air, it would start with a high speed, which decreases down to zero at the peak, and then the speed would increase again as the ball accelerates towards the ground.\n",
    "### On the other hand, ***velocity*** has a directional component. For a tossed tennis ball, it starts with an upwards velocity, but after reaching its peak, the velocity begins to point downwards."
   ]
  },
  {
   "cell_type": "markdown",
   "id": "66753cd1-62a0-42da-8a33-d0984446770d",
   "metadata": {},
   "source": [
    "## Same Speed Different Velocity\n",
    "### To take another example, imagine serving a volleyball. The following figure shows its trajectory:\n",
    "![Speed vs Velocity](img/speed-velocity.png)\n",
    "### The two arrows represent the velocity vectors of the volleyball at two moments in time. Comparing these two points in time, the volleyball has the same speed but different velocity."
   ]
  },
  {
   "cell_type": "markdown",
   "id": "c87b90bd-b0a6-40ca-aa40-2ec49af4ebd8",
   "metadata": {},
   "source": [
    "## Finding the velocity vector\n",
    "### Definition 3.1   (Velocity in 2D) \n",
    "### If a particle follows a parametric equation $(x(t),y(t))$ then its velocity vector at time $t$ is the vector \n",
    "## $$ \\begin{pmatrix} x'(t) \\\\ y'(t) \\end{pmatrix} $$\n",
    "\n",
    "### It is also common to write this vector using the differential notation:\n",
    "## $$ \\frac{d\\vec{r}}{dt} = \\begin{pmatrix} x'(t) \\\\ y'(t) \\end{pmatrix} $$\n",
    "### The differential notation should be understood in the same way as in single-variable calculus: it is the limit of the ratio $\\frac{\\Delta r}{\\Delta t}$ as $\\Delta t$ goes to zero (here $\\Delta r$ is a vector and $\\Delta t$ is a real number).\n",
    "### Example 3.2\n",
    "### Our first example was $(x(t),y(t))=(t^2,1+t^2)$. The velocity vector is therefore $\\begin{pmatrix} 2t \\\\ 2t \\end{pmatrix}$. We see that the velocity vector is parallel to $\\begin{pmatrix} 1 \\\\ 1 \\end{pmatrix}$, the trajectory of the particle.\n",
    "### Speed is the magnitude of the velocity vector."
   ]
  },
  {
   "cell_type": "markdown",
   "id": "763b439c-3ee5-49b7-ad67-5af16a00558c",
   "metadata": {},
   "source": [
    "### Example 3.3\n",
    "\n",
    "### Again let's consider $(x(t),y(t))=(t^2,1+t^2)$. The velocity vector is $\\begin{pmatrix} 2t \\\\ 2t \\end{pmatrix}$. The speed is given by $\\sqrt{8 t^2}$, which shows that the particle is accelerating, that is, its speed is increasing over time."
   ]
  },
  {
   "cell_type": "markdown",
   "id": "df4864a7-7aad-4be1-84e6-150c23bc11d2",
   "metadata": {},
   "source": [
    "## 3D Motion\n",
    "\n",
    "### To describe a moving point in three-dimensional space, we need formulas for $x(t)$, $y(t)$, and $z(t)$. For example, we may have\n",
    "## $$ x(t) = 1 + t^3 $$\n",
    "## $$ y(t) = 2 t^3 $$\n",
    "## $$ z(t) = 1 - t^3 $$\n",
    "### where $0 \\leq t < \\infty$\n",
    "### One may imagine a particle whose position at time $t$ is given by $(x(t),y(t),z(t))$.\n",
    "### As in two dimensions, we can plot the trajectory. In this case, we get another straight line (ray):\n",
    "![3D Motion 1](img/3d-motion-1.png)\n",
    "### Again, we can use vector arithmetic to see why we get this line. The vector\n",
    "## $$ \\vec{r} = \\begin{pmatrix} x(t) \\\\ y(t) \\\\ z(t) \\end{pmatrix} = \\begin{pmatrix} 1 + t^3 \\\\ 2 t^3 \\\\ 1 - t^3 \\end{pmatrix} $$\n",
    "### can be written as a sum:\n",
    "## $$ \\vec{r} = \\begin{pmatrix} 1 \\\\ 0 \\\\ 1 \\end{pmatrix} + t^3 \\begin{pmatrix} 1 \\\\ 2 \\\\ -1 \\end{pmatrix} $$\n",
    "### We can recognize this equation as one of the form $\\vec{r} = \\vec{u} + f(t) \\vec{w}$, which will have a straight-line trajectory. The base point $\\vec{u}$  in this case is $(1,0,1)$ and the direction of motion $\\vec{w}$  is parallel to the vector $\\begin{pmatrix} 1 \\\\ 2 \\\\ -1 \\end{pmatrix}$"
   ]
  },
  {
   "cell_type": "markdown",
   "id": "acf246ef-6575-406e-b61c-522624ebeacb",
   "metadata": {},
   "source": [
    "### Let's look at an example where the trajectory is not a straight line.\n",
    "## $$ x(t) = \\cos(t) $$\n",
    "## $$ y(t) = \\sin(t) $$\n",
    "## $$ z(t) = t $$\n",
    "### where $0 \\leq t < \\infty$\n",
    "### How to visualize this trajectory? First, let's ignore the $z$ component. Then we can recognize that, in the $x$, $y$ plane, the point is tracing out the unit circle repeatedly. Now we can think about the $z$-coordinate. Since $z(t)=t$, it means the point is moving steadily upwards. The resulting shape is known as a helix:\n",
    "\n",
    "![3D Motion 2](img/3d-motion-2.png)"
   ]
  },
  {
   "cell_type": "markdown",
   "id": "bb79830f-dd12-42e9-beeb-aadc7d13b343",
   "metadata": {},
   "source": [
    "## 3D Velocity\n",
    "\n",
    "### To compute the velocity of a particle moving in three dimensions, we again take the derivative of each component.\n",
    "### Definition 6.1 (Velocity in 3D)\n",
    "###  If a particle follows a parametric equation $(x(t),y(t),z(t))$ then its ***velocity vector*** at time $t$ is the vector\n",
    "## $$ \\vec{v} \\frac{d\\vec{r}}{dt} = \\begin{pmatrix} x'(t) \\\\ y'(t) \\\\ z'(t) \\end{pmatrix} $$\n",
    "\n",
    "### The velocity vector $\\vec{v}$  points in the direction of motion of the particle. More precisely, $\\vec{v}$ points along the straight line that best approximates the motion at the given time $t$.\n",
    "### For the helix example, we have:\n",
    "## $$ \\vec{r} = \\begin{pmatrix} \\cos(t) \\\\ \\sin(t) \\\\ t \\end{pmatrix} $$\n",
    "### and\n",
    "## $$ \\vec{v} = \\begin{pmatrix} -\\sin(t) \\\\ \\cos(t) \\\\ 1 \\end{pmatrix} $$\n",
    "### In the visualization below, there is the plot of the helix and the velocity vector at time $t=2\\pi$.\n",
    "![3D Motion 3](img/3d-motion-3.png)\n",
    "\n",
    "## 3D Speed\n",
    "### As in two dimensions, the speed of a particle is given by the magnitude of the velocity vector, that is $\\frac{d\\vec{r}}{dt}$. For the helix example above, the speed is given by\n",
    "## $$ \\left| \\begin{pmatrix} -\\sin(t) \\\\ \\cos(t) \\\\ 1 \\end{pmatrix} \\right| = \\sqrt{(-\\sin(t))^2 + (\\cos(t))^2 + 1^2} = \\sqrt{2} $$\n",
    "### In this case, the particle has constant speed $\\sqrt{2}$ throughout its trajectory."
   ]
  },
  {
   "cell_type": "markdown",
   "id": "14379d2f-10bc-4613-a6d2-247a1e48a9de",
   "metadata": {},
   "source": [
    "## Unit tangent vector\n",
    "### Sometimes we need to find the ***unit tangent vector***, meaning a vector of unit length that is tangent to a trajectory. It is common to write $\\hat(T)$ for the unit tangent vector. How do we obtain this vector given the parametric equation for $\\vec{t}(t)$?\n",
    "### We have already seen that the velocity vector $\\vec{v} = \\frac{d\\vec{r}}{dt}$t is tangent to the particle's trajectory. Therefore, we can obtain the unit tangent vector by rescaling $\\vec{v}$  to have unit length.\n",
    "### Definition 7.1 (Unit Tangent Vector)\n",
    "### If $\\vec{r}$  is the position of a particle at time $t$, then the unit tangent vector to the particle's trajectory at time $t$ is given by\n",
    "## $$ \\hat{T}(t) = \\frac{\\vec{v}}{\\left|\\vec{v}\\right|} = \\frac{\\frac{d\\vec{r}}{dt}}{\\left|\\frac{d\\vec{r}}{dt}\\right|} $$\n",
    "### Example 7.2\n",
    "### For example, if $x(t)=t$ and $y(t)=-5 t^2$ then we have $\\vec{v}=\\begin{pmatrix}1 \\\\ -10t \\end{pmatrix}$. This vector has length $\\sqrt{1^2 + (-10 t)^2} = \\sqrt{1 + 100 t^2}$, so the unit tangent vector is obtained by dividing $\\vec{v}$  by $\\sqrt{1 + 100 t^2}$:\n",
    "## $$ \\hat{T}(t) = \\begin{pmatrix} \\frac{1}{\\sqrt{1 + 100 t^2}} \\\\ \\frac{1}{\\sqrt{1 + 100 t^2}} \\end{pmatrix} $$"
   ]
  },
  {
   "cell_type": "markdown",
   "id": "e941bc91-7de8-49d8-aa81-00b6f5a5f484",
   "metadata": {},
   "source": [
    "## Lines in 3D\n",
    "\n",
    "### Suppose we have two points, $Q_0$ and $Q_1$, and we want to describe the motion of a particle that moves in a straight line from $Q_0$ to $Q_1$ in 3D. For example, suppose $Q_0 = (-1, 2,2)$ and $Q_1=(1,3,-1)$. Let $Q(t)$ be the position of the moving point at time $t$. If we assume $Q(0) = Q_0$, $Q(1) = Q_1$, and that the point moves at constant speed from $Q_0$ to $Q_1$, then we can say that\n",
    "## $$ \\vec{Q_0 Q(t)} = t \\vec{Q_0 Q_1} $$\n",
    "### In words, the vector from $Q_0$ to $Q_1$ is equal to $t$ times the vector from $Q_0$ to $Q_1$.\n",
    "### It follows that, using the notation $Q(t) = (x(t), y(t), z(t))$,\n",
    "## $$ x(t) = -1 + 2 t $$\n",
    "## $$ y(t) = 2 + t $$\n",
    "## $$ z(t) = 2 - 3 t $$\n",
    "### This can also be written as\n",
    "## $$ Q(t) = Q_0 + t\\vec{Q_0 Q_1} $$\n",
    "### In this form, the straight-line trajectory is more evident.\n"
   ]
  },
  {
   "cell_type": "markdown",
   "id": "da26279b-b360-4ccf-9bd1-0ca85d924f73",
   "metadata": {},
   "source": [
    "## Descriptions of Curves\n",
    "\n",
    "### We now have several ways of describing a curve. Consider the unit circle:\n",
    "![Unit Circle](img/unit-circle.png)\n",
    "### The image above may be called a “graphical description\". But for doing calculus, we need descriptions that use equations. We have two methods available to us:\n",
    "### - As a level curve\n",
    "### We can describe this curve as the solution set to $x^2 + y^2 = 1$. In fact this is a level curve of the function $g(x,y) = x^2 + y^2$.\n",
    "### - As a parametric trajectory\n",
    "### We can also describe this curve as a parametric trajectory. In this case, we have $\\vec{r}(t) = \\begin{pmatrix} \\cos(t) \\\\ \\sin(t) \\end{pmatrix}$. Describing a curve as a parametric trajectory is sometimes called “parameterizing the curve.\"\n",
    "\n",
    "### - Comparison\n",
    "### Both methods are useful descriptions of the curve. But they don't contain exactly the same information. The “level curve\" description only describes a subset of the plane, whereas the “parametric trajectory\" description additionally describes the motion of a moving point (which has speed, velocity, etc.). Both descriptions give completely different methods for finding tangent vectors.\n",
    "### ***Question 1***: \n",
    "### How do you find the tangent vector to a curve in the plane when it is given as a parametric equation?\n",
    "### Answer: Suppose $C$ is the trajectory of $\\vec{r}(t)$. To find the tangent vector at a point $(x_0, y_0)$, first find $t_0$ such that $\\vec{r}(t_0) = (x_0, y_0)$. Then compute $\\vec{v}(t) = \\frac{d\\vec{r}}{dt}$, and the vector $\\vec{v}(t_0)$ will point in a direction tangent to $C$ at the point $(x_0, y_0)$.\n",
    "### ***Question 2***: \n",
    "### How do you find the tangent vector to a curve in the plane when it is given as a level curve?\n",
    "### Answer: Suppose $C$ is a curve described by the equation $g(x, y) = k$. To find the tangent vector at a point $(x_0, y_0)$, first compute the gradient $\\nabla g(x, y)$. Then the vector $\\nabla g(x_0, y_0)$ will be normal to the curve $C$ at the point $(x_0, y_0)$. Rotating this normal vector by $\\pm \\frac{\\pi}{2}$ gives us the desired tangent vector.\n",
    "\n",
    "### Note that, in three dimensions, the equation $g(x,y,z) = k$ describes a level surface, rather than a curve. Therefore, when working in three dimensions, we (almost) always exclusively use parametric equations to describe curves."
   ]
  },
  {
   "cell_type": "markdown",
   "id": "0b7b9220-768d-4748-9f61-ca41d10277ad",
   "metadata": {},
   "source": [
    "## Differential of y = f(x)\n",
    "### We know from single-variable calculus that if $y=x^2$ then $\\frac{dy}{dx}=2x$. It is common to think of $\\frac{dy}{dx}$ as just the Leibniz notation for the derivative. But we sometimes also write $dy=2 x dx$, obtained by \"multiplying by $dx$\". Is this an abuse of notation, or is there some deeper meaning?\n",
    "\n",
    "### In fact, there is a deeper meaning. The symbols \"$dy$\" and \"$dx$\" represent the \"infinitesimal versions\" of $\\Delta y$ and $\\Delta x$. In contrast to \"$dy$\" and \"$dx$\", the symbols $\\Delta y$ and $\\Delta x$ can be given numerical values, and they mean that if you change $x$ by $\\Delta x$, it causes $y$ to change by $\\Delta y$. But when we replace the $\\Delta$'s by d's, we express the fact that we are imagining these quantities tending towards zero.\n",
    "\n",
    "## $$ \\frac{dy}{dx} = 2x $$\n",
    "### means\n",
    "## $$ \\frac{\\Delta y}{\\Delta x} \\approx 2 x $$\n",
    "### for small values of $\\Delta x$\n",
    "### In the same way\n",
    "## $$ dy = 2 x dx$$\n",
    "### means\n",
    "## $$ \\Delta y \\approx 2x \\Delta x$$\n",
    "### for small values of $\\Delta x$\n",
    "### Using the $dy$ and $dx$ symbols, we can state linear approximation as an equality ($=$ instead of $\\approx$). This equality becomes approximate once we replace the $dx$ and $dy$ with $\\Delta x$ and $\\Delta y$.\n",
    "\n"
   ]
  },
  {
   "cell_type": "markdown",
   "id": "f32ce128-5432-48b2-8bf1-cb320e28abcc",
   "metadata": {},
   "source": [
    "## Difference between dy,dx and Δy,Δx\n",
    "\n",
    "### Based on the above example, it might seem unnecessary to use $dx$, $dy$ when we could have written the solution using the more familiar $\\Delta x$ and $\\Delta y$. Why the need for a new notation if it expresses the same thing?\n",
    "\n",
    "### The answer is that writing $dy = 2 x dx $ expresses a more precise statement than writing $\\Delta y \\approx 2 x \\Delta x$.\n",
    "### The $\\approx$ symbol is flawed because its meaning is highly context-dependent. In some contexts  means \"equal up to the first decimal point\", but in other contexts, it could mean \"equal up to the sixth decimal point\". Neither of these is what we mean in this context. In particular, we mean that the accuracy of the approximation gets better and better as $\\Delta x$ gets closer and closer to $0$.\n",
    "\n",
    "### In other words, writing $dy = 2 x dx $ expresses something about a limit, whereas $\\Delta y \\approx 2 x \\Delta x$ does not.\n",
    "\n",
    "### Using differentials is particularly useful in multivariable calculus, because we sometimes need to keep track of multiple linear approximations at one time. The symbols $dx$ and $dy$ work as placeholders to tell us where the numerical values of $\\Delta x$ and $\\Delta y$ will go in the end.\n"
   ]
  },
  {
   "cell_type": "markdown",
   "id": "680efdf2-bd86-4985-83a6-d5696a24c50a",
   "metadata": {},
   "source": [
    "## Differential of $f(x, y, z)$\n",
    "\n",
    "### The language of differentials is particularly useful for understanding functions of several variables.\n",
    "\n",
    "### Suppose we have a quantity $f$ that depends on $x$, $y$ and $z$, say $f = f(x, y, z)$. Then the \"differential of $f$\" is as follows:\n",
    "## $$ df = f_x dx + f_y dy + f_z dz $$\n",
    "\n",
    "### How to understand this notation? The equation expresses the fact that if we change $x$,$y$ and $z$ by small amounts $\\Delta x$, $\\Delta y$ and $\\Delta z$ then it will cause a change in $f$ that is approximately equal to\n",
    "## $$ \\Delta f \\approx f_x \\Delta x + f_y \\Delta y + f_z \\Delta z $$\n",
    "\n",
    "### where $f_x$, $f_y$, $f_z$ are the partial derivatives of $f$ at the starting point. Furthermore, it expresses that the approximation gets better and better as $\\Delta x$, $\\Delta y$ and $\\Delta z$ shrink to $0$.\n"
   ]
  },
  {
   "cell_type": "markdown",
   "id": "32077857-dfdc-405e-ad48-5daa593021b7",
   "metadata": {},
   "source": [
    "## Infinitesimal interpretation\n",
    "\n",
    "### Although the notion is not completely precise, it is sometimes helpful to think of each differential as representing an “infinitesimal change.\" If it were possible to change $x$, $y$ and $z$ by infinitesimal amounts $dx$, $dy$, and $dz$, then, in some sense, it would cause an infinitesimal change in $f$ in the amount of $df$.\n",
    "\n"
   ]
  },
  {
   "cell_type": "markdown",
   "id": "b47f4939-fb82-41b8-bf58-f70e5dbab359",
   "metadata": {},
   "source": [
    "## Placeholder interpretation\n",
    "\n",
    "### Perhaps a more useful interpretation is to think of these differentials as placeholders that track how changes in each input variable $x$, $y$ and $z$ cause changes in the output variable $f$. When we need to do an actual approximation, we will replace the differentials with numerical values, and replace the $=$ sign with an $\\approx$ sign.\n",
    "\n",
    "### When $f$ is a function of several variables, $df$ is known as a \"total differential\". The total differential can also be written as:\n",
    "## $$ df = \\frac{\\partial f}{\\partial x} dx + \\frac{\\partial f}{\\partial y} dy + \\frac{\\partial f}{\\partial z} dz $$\n"
   ]
  },
  {
   "cell_type": "markdown",
   "id": "7d9cb6d9-6548-4f0d-aa75-9e5113946105",
   "metadata": {},
   "source": [
    "## Multivariable Chain Rule\n",
    "\n",
    "### The ***multivariable chain rule*** is needed when we need to differentiate a function whose inputs are controlled by another variable. Imagine a function that depends on $x$, $y$ and $z$ such as $f = f(x, y, z)$. Now imagine that we cannot control $x$, $y$ and $z$ directly and instead they each depend on a parameter $t$. This means changing the variable $t$ will cause the function $f$ to change, and we would like to know the corresponding rate of change $\\frac{df}{dt}$.\n",
    "\n",
    "### One way of finding $\\frac{df}{dt}$ is to use differentials. We know:\n",
    "\n",
    "## $$ df = f_x dx + f_y dy + f_z dz $$\n",
    "\n",
    "### Now “divide everything by $dt$\" to obtain a formula for $\\frac{df}{dt}$:\n",
    "\n",
    "## $$ \\frac{df}{dt} = f_x \\frac{dx}{dt} + f_y \\frac{dy}{dt} + f_z \\frac{dz}{dt} $$\n",
    "\n",
    "### There you have it: this is the multivariable chain rule (at least, one manifestation of the multivariable chain rule). It gives us a recipe for finding $\\frac{df}{dt}$ in terms of the intervening rates of change."
   ]
  },
  {
   "cell_type": "markdown",
   "id": "1fdfa07d-221c-4337-8a1b-c3087807bc11",
   "metadata": {},
   "source": [
    "## Example 4.1\n",
    "### An example might make the idea more clear. Imagine a box of height $y$ with a square base of width $x$. Then the volume is given by $V = x^2y$. Now suppose that we cannot control the values of $x$ and $y$ directly, but they each depend on a parameter $t$. In this example, let's imagine $x = (1+t)^2$ and $y = 3 t$. Now changing the variable $t$ will cause the volume $V$ to change, and we would like to know the corresponding rate of change, that is, the value of $\\frac{dV}{dt}$.\n",
    "\n",
    "### We can use differentials. We know:\n",
    "## $$ dV = V_x dx + V_y dy $$\n",
    "### Now “divide everything by $dt$\" to obtain a formula for $\\frac{dV}{dt}$:\n",
    "## $$ \\frac{dV}{dt} = V_x \\frac{dx}{dt} + V_y \\frac{dy}{dt} $$\n",
    "### We find $V_x$ and $V_y$ from $V = x^2y$. We find $\\frac{dx}{dt}$ from $x = (1+t)^2$ and $\\frac{dy}{dt}$ from $y = 3 t$.\n",
    "## $$ \\frac{dV}{dt} = \\underbrace{(2xy)}_{V_x} \\underbrace{(2(1+t))}_{\\frac{dx}{dt}} + \\underbrace{(x^2)}_{V_y} \\underbrace{(3)}_{\\frac{dy}{dt}} $$\n",
    "### Now we write everything in terms of $t$ to obtain:\n",
    "## $$ \\frac{dV}{dt} = (2) (1 + t)^2 (3 t)(2(1+t))+(1+t)^4 $$\n",
    "### which simplifies to\n",
    "## $$ \\frac{dV}{dt} = 12 t (1+t)^3 + 3(1+t)^4 $$\n"
   ]
  },
  {
   "cell_type": "markdown",
   "id": "7873b878-7083-4c1c-8d03-bca7d86df92a",
   "metadata": {},
   "source": [
    "## Chain Rule in Pictures\n",
    "\n",
    "### The following diagram shows how changing $x$ and $y$ causes $V$ to change.\n",
    "![Chain Rule 1](img/chain-rule-1.png)\n",
    "\n",
    "### If $x$ and $y$ depend on $t$, then the change in $t$ indirectly causes a change in $V$. The following diagram shows how changing $t$ causes $V$ to change. Notice the “chain\" of variables, giving rise to the “chain rule\".\n",
    "![Chain Rule 2](img/chain-rule-2.png)"
   ]
  },
  {
   "cell_type": "markdown",
   "id": "a759991e-355b-4a82-b1f9-08185d79af93",
   "metadata": {},
   "source": [
    "## What is the statement of the chain rule?\n",
    "### The multivariable chain rule differs from the single-variable chain rule because, rather than a single formula, it represents a general principle. In words, the theorem behind the chain rule says ***any partial derivative can be computed by looking at the chain of transformations that take the input to the output, and forming the product of the partial derivatives for each link in the chain*** (as shown in the diagrams above). It is possible to package this statement into formulas, which are given at the end of this lecture."
   ]
  },
  {
   "cell_type": "markdown",
   "id": "37639e9f-5b66-40ab-8728-98fc5cf9c06b",
   "metadata": {},
   "source": [
    "## Why is the chain rule true?\n",
    "\n",
    "### On the previous page, we claimed that you could “divide everything by $dt$\" to obtain the chain rule. To justify this requires clearly interpreting differentials. However, the justifications given here are not entirely rigorous, and are just meant to give you an idea of what is going on when we write equations with differentials.\n",
    "\n",
    "### 1st attempt\n",
    "## $$dx = x'(t) dt, dy = y'(t)dt, dz = z'(t) dt $$\n",
    "### By substitution, we obtain the \"chain rule\" statement made on the previous page.\n",
    "\n",
    "## $$ df = f_x x'(t) dt + f_y y'(t) dt + f_z(t) z'(t) dt $$\n",
    "## $$ (f_x x'(t) + f_y y'(t) + f_z z'(t)) dt $$\n",
    "\n",
    "### Now we have an equation for $df$ in terms of only $t$ and $dt$. The coefficient on $dt$ must be the derivative of $f$ with respect to $t$\n",
    "\n",
    "## 2nd attempt\n",
    "\n",
    "### Another way to convince ourselves of the chain rule is to replace the $d$'s by $\\Delta$'s. This removes any ambiguity about the meaning.\n",
    "### We know from linear approximation that\n",
    "\n",
    "## $$ \\Delta f \\approx f_x \\Delta x + f_y \\Delta y + f_z \\Delta z$$\n",
    "### Dividing by $\\Delta t$ gives\n",
    "## $$ \\frac{\\Delta f}{\\Delta t} \\approx \\frac{f_x \\Delta x + f_y \\Delta y + f_z \\Delta z}{\\Delta t} $$\n",
    "## $$ \\frac{\\Delta f}{\\Delta t} \\approx f_x \\frac{\\Delta x}{\\Delta t} + f_y \\frac{\\Delta y}{\\Delta t} + f_z \\frac{\\Delta z}{\\Delta t} $$\n",
    "### Now if we imagine $\\Delta t$ moving towards zero, we can replace all $\\Delta$'s with $d$'s to get a correct statement."
   ]
  },
  {
   "cell_type": "markdown",
   "id": "ecb7b74b-a40e-4a42-8700-cdabccc52029",
   "metadata": {},
   "source": [
    "## Chain rule with more variables\n",
    "\n",
    "### The multivariable chain rule also comes up if the inputs to the function depend on more than one parameter. Imagine a quantity $w$ is given by a function of $x$ and $y$ as $w=f(x,y)$. Now suppose we cannot control $x$ and $y$ directly, but they each depend on two variables $u$ and $v$.\n",
    "### ***Question***\n",
    "### How can we write $\\frac{\\partial w}{\\partial u}$ and $\\frac{\\partial w}{\\partial v}$ in terms of the rate of change of $w$ (derivatives $\\frac{\\partial w}{\\partial x}$ and $\\frac{\\partial w}{\\partial y}$) and the rate of change of $x$ and $y$ (derivatives $x_u$,$x_v$ and $y_u$,$y_v$)?\n",
    "### We will give a specific example later on this page. First let's solve the problem in general.\n"
   ]
  },
  {
   "cell_type": "markdown",
   "id": "cdf0b499-3300-4c64-bbb8-a3889cee8777",
   "metadata": {},
   "source": [
    "## Using differentials\n",
    "\n",
    "### Differentials give us an indirect way to keep track of everything. First we will write the total differential of $w$, then substitute in the total differentials of $x$ and $y$, and rewrite the equation to elicit the coefficients on $du$ and $dv$.\n",
    "### We start with the total differential of $w$:\n",
    "## $$ dw = f_x dx+f_y dy $$\n",
    "### Next we can replace the differentials $dx$ and $dy$ by their total differentials:\n",
    "## $$ dw = f_x \\left( \\underbrace{x_u du + x_v dv}_{dx} \\right) + f_y \\left( \\underbrace{y_u du + y_v dv}_{dy} \\right) $$\n",
    "### Now recollecting terms:\n",
    "## $$ dw = (f_x x_u + f_y y_u) du + (f_x x_v + f_y y_v) dv $$\n",
    "### It follows that the coefficients on $du$ and $dv$ are the unknown partial derivatives:\n",
    "## $$ dw = (\\underbrace{f_x x_u + f_y y_u}_{\\frac{\\partial w}{\\partial u}}) du + (\\underbrace{f_x x_v + f_y y_v}_{\\frac{\\partial w}{\\partial v}}) dv $$\n",
    "### Thus we have\n",
    "## $$ \\frac{\\partial w}{\\partial u} = f_x x_u + f_y y_u $$\n",
    "## $$ \\frac{\\partial w}{\\partial v} = f_x x_v + f_y y_v $$"
   ]
  },
  {
   "cell_type": "markdown",
   "id": "bdabdd8c-824b-4373-a27f-07fe9d55573a",
   "metadata": {},
   "source": [
    "### Or by rewriting the above results using $\\partial$ notation:\n",
    "## $$ \\frac{\\partial f}{\\partial u} = \\frac{\\partial f}{\\partial x} \\frac{\\partial x}{\\partial u} + \\frac{\\partial f}{\\partial y} \\frac{\\partial y}{\\partial u} $$\n",
    "## $$ \\frac{\\partial f}{\\partial v} = \\frac{\\partial f}{\\partial x} \\frac{\\partial x}{\\partial v} + \\frac{\\partial f}{\\partial y} \\frac{\\partial y}{\\partial v} $$\n"
   ]
  },
  {
   "cell_type": "markdown",
   "id": "6bccaf5c-5501-48c1-83d1-c12ed16512fa",
   "metadata": {},
   "source": [
    "## Polar Coordinates\n",
    "\n",
    "### A useful application of the chain rule would be when we need to switch between rectangular and polar coordinates.\n",
    "### Suppose a quantity $f$ varies in the plane with $x$ and $y$. Perhaps we already know $\\frac{\\partial f}{\\partial x}$ and $\\frac{\\partial f}{\\partial y}$, but what we really want to know are the partial derivatives of $f$ with respect to the polar coordinates $r$ and $\\theta$. The chain rule gives us a way to find these partial derivatives without writing $f$ explicitly in terms of $r$ and $\\theta$.\n",
    "\n",
    "### In particular, the chain rule tells us that\n",
    "## $$ \\frac{\\partial f}{\\partial r} = \\frac{\\partial f}{\\partial x} \\frac{\\partial x}{\\partial r} + \\frac{\\partial f}{\\partial y} \\frac{\\partial y}{\\partial r} $$\n",
    "### This equation follows from the \"more variables\" version of the chain rule.\n",
    "### Next, we have\n",
    "## $$ x = r \\cos(\\theta) $$\n",
    "## $$ y = r \\sin(\\theta) $$\n",
    "### Therefore we have\n",
    "## $$ \\frac{\\partial x}{\\partial r} = \\cos(\\theta) $$\n",
    "## $$ \\frac{\\partial y}{\\partial r} = \\sin(\\theta) $$\n",
    "### So if we know $\\frac{\\partial f}{\\partial x}$ and $\\frac{\\partial f}{\\partial y}$ we can write $\\frac{\\partial f}{\\partial r}$ as:\n",
    "## $$ \\frac{\\partial f}{\\partial r} = \\underbrace{\\frac{\\partial f}{\\partial x}}_{f_x} \\cos(\\theta) + \\underbrace{\\frac{\\partial f}{\\partial y}}_{f_y} \\sin(\\theta) $$\n",
    "### In a similar way it is possible to write $\\frac{\\partial f}{\\partial \\theta}$ in terms of $\\frac{\\partial f}{\\partial x}$ and $\\frac{\\partial f}{\\partial y}$."
   ]
  },
  {
   "cell_type": "markdown",
   "id": "b22e6934-1e17-41aa-92cc-cbbc98ee160b",
   "metadata": {},
   "source": [
    "## Statement of Chain Rule\n",
    "\n",
    "### There are many \"chain rules\" in multivariable calculus, because of the many different possibilities for the number of input/output variables. Let's look at the statement in some of the most common cases that we already covered. At the end of this page we have included the most generalized statement of the chain rule.\n",
    "\n",
    "## Example: From 1 variable to 2 variables to 1 variable\n",
    "\n",
    "### Let's look at how the chain rule manifests when we have a quantity $z$ that depends on two variables, $x$ and $y$, which each depend on a single variable, $t$. The chain rule says that the (single-variable) derivative of $z$ is given by\n",
    "## $$ \\frac{\\partial z}{\\partial t} = \\frac{\\partial z}{\\partial x} \\frac{\\partial x}{\\partial t} + \\frac{\\partial z}{\\partial y} \\frac{\\partial y}{\\partial t} $$\n",
    "### How to remember this formula? First, we imagine the following diagram which shows the dependencies between the variables.\n",
    "![Chain Rule](img/chain-general-1.png)\n",
    "\n",
    "### Then for each one of the paths from $t$ to $z$, we have a term in the formula for $\\frac{\\partial z}{\\partial t}$. By adding up the relevant partial derivatives, we obtain the total expression for $\\frac{\\partial z}{\\partial t}$.\n",
    "### We have seen an example of this situation, where there was an output $V=xy^2$ and $x$ and $y$ each depended on a variable $t$.\n",
    "## Example: From 2 variables to 2 variables to 1 variable\n",
    "### Now let's look at how the chain rule manifests when we have a quantity $z$ that depends on two variables, $x$ and $y$, which each depend on two variables $a$ and $b$. The chain rule says that the partial derivatives of $z$ with respect to $a$ and $b$ are given by:\n",
    "## $$ \\frac{\\partial z}{\\partial a} = \\frac{\\partial z}{\\partial x} \\frac{\\partial x}{\\partial a} + \\frac{\\partial z}{\\partial y} \\frac{\\partial y}{\\partial a} $$\n",
    "## $$ \\frac{\\partial z}{\\partial b} = \\frac{\\partial z}{\\partial x} \\frac{\\partial x}{\\partial b} + \\frac{\\partial z}{\\partial y} \\frac{\\partial y}{\\partial b} $$\n",
    "### $\\frac{\\partial z}{\\partial y} \\frac{\\partial y}{\\partial a}$ term is highlighted in blue to emphasize its connection to the following diagram:\n",
    "![Chain Rule](img/chain-general-2.png)\n",
    "### The term $\\frac{\\partial z}{\\partial y} \\frac{\\partial y}{\\partial a}$ arises because of the highlighted path from $a$ to $z$.\n",
    "### In general we see the same pattern as before: to obtain the partial derivative of an output variable with respect to one of the input variables, we sum up each of the paths from input to output and multiply the corresponding partial derivatives.\n",
    "### We have seen an example of this situation, where there was an output $V=xy^2$ and $x$ and $y$ each depended on two variables $a$ and $b$.\n",
    "## More generally: From $n$ variables to $m$ variables to $1$ variable\n",
    "### Both of the special cases stated above are examples of the following more general statement of the chain rule.\n",
    "## Theorem (Chain Rule)\n",
    "### Suppose $z$ is a quantity that depends on m variables, $y_1,\\dots,y_m$ and each of the $y$'s depends on the $n$ variables $x_1,\\dots,x_n$. Then the derivatives of $z$ are given by:\n",
    "### For $1\\leq i \\leq n$\n",
    "## $$ \\frac{\\partial z}{\\partial x_i} = \\sum_{j=1}^{m} \\frac{\\partial z}{\\partial y_j} \\frac{\\partial y_j}{\\partial x_i} $$\n",
    "### When the theorem is written this way, it is often not clear how to apply it to a given problem. But you can always draw a diagram such as the ones pictured above, and then the theorem just says that the derivative of the output, with respect to one of the inputs, is found by summing up each of the m paths from the input to the output, with each path weighted by the product of the appropriate partial derivatives.\n",
    "## What about more than one output?\n",
    "### In each of the above examples, there was just one \"output\" variable $z$. If there are two or more output variables, say $z_1$ and $_2$, then you can use the above theorem for each variable separately. The overall rule is the same: we get the derivative of a given output with respect to a given input by summing up all the paths from the chosen input to the chosen output, weighted by the product of the appropriate partial derivatives.\n",
    "## How to draw the diagrams?\n",
    "### The diagrams above are sometimes known as “dependency graphs.\" They encapsulate how each variable depends on the other variables. Once you have a dependency graph, it is straightforward to use the chain rule, since we can look at each of the paths in the diagram and write down a corresponding term for the derivative.\n"
   ]
  },
  {
   "cell_type": "markdown",
   "id": "a181539f-d11b-4400-83e0-489a8900dc0e",
   "metadata": {},
   "source": [
    "## Generalized Chain Rule\n",
    "### In its most general form, the Chain Rule is best stated in terms of Jacobian matrices. Namely, if we have transformations $\\bf{T}$ and $\\bf{W}$ taking input vectors to output vectors:\n",
    "## $$ \\underbrace{\\vec{x}}_{\\text{n variables}} \\xrightarrow[]{\\bf{T}} \\underbrace{\\vec{y}}_{\\text{m variables}} \\xrightarrow[]{\\bf{W}} \\underbrace{\\vec{z}}_{\\text{k variables}} $$\n",
    "### Then the ***generalized chain rule*** says the Jacobian matrix of the transform $\\bf{W}\\circ\\bf{T}$ is given by the product of the Jacobian of $\\bf{W}$ and the Jacobian of $\\bf{T}$.\n",
    "### $$ \\begin{array} \\, \\text{(Generalized chain rule)} & \\text{Jacobian of}\\,\\bf{W}\\circ\\bf{T} = \\text{Jacobian of}\\,\\bf{W} \\cdot \\text{Jacobian of}\\,\\bf{T} \\end{array} $$\n",
    "### Letting $\\bf{J_T}$ stand for the Jacobian matrix of the transformation $\\bf{T}$ (at the appropriate point), the generalized chain rule says:\n",
    "## $$ \\underbrace{\\bf{J_{W\\circ T}}}_{k\\times n\\text{matrix}} = \\underbrace{\\bf{J_W}}_{k\\times m\\text{matrix}} \\cdot \\underbrace{\\bf{J_T}}_{m\\times n\\text{matrix}} $$\n",
    "### Unpacking the statement slightly, the generalized chain rule just says that the linear approximation of a composite transformation can be done one transformation at a time. In other words, to approximate the value of $\\vec{z}$  for a given $\\vec{x}$ , we can first approximate the value of $\\vec{y}$  (using the Jacobian of $\\bf{T}$) and then use this $\\vec{y}$  to make an approximation for the resulting value of $\\vec{z}$  (using the Jacobian of $\\bf{W}$). The matrix multiplication shows up in the chain rule because matrix multiplication corresponds to composition (applying one transformation, and then the other).\n",
    "### Another way of understanding the role of matrices is to recognize all of the formulas on this page as \"hidden dot products.\" By scrutinizing each of these dot products, one can package them all into one formula, leading to the matrix product formulation above."
   ]
  },
  {
   "cell_type": "code",
   "execution_count": null,
   "id": "72b09ab9-5c24-48bd-8837-813df1448ff0",
   "metadata": {},
   "outputs": [],
   "source": []
  }
 ],
 "metadata": {
  "kernelspec": {
   "display_name": "Python 3",
   "language": "python",
   "name": "python3"
  },
  "language_info": {
   "codemirror_mode": {
    "name": "ipython",
    "version": 3
   },
   "file_extension": ".py",
   "mimetype": "text/x-python",
   "name": "python",
   "nbconvert_exporter": "python",
   "pygments_lexer": "ipython3",
   "version": "3.8.2"
  }
 },
 "nbformat": 4,
 "nbformat_minor": 5
}
