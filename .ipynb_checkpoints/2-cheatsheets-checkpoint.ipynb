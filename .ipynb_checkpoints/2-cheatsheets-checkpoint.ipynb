{
 "cells": [
  {
   "cell_type": "markdown",
   "id": "20feb0ec-f5f6-4243-9d27-faea8ddeb229",
   "metadata": {},
   "source": [
    "# Unit 2: Geometry of Derivatives"
   ]
  },
  {
   "cell_type": "markdown",
   "id": "e0d2160c-9816-4abe-b6b2-8fde20babd0f",
   "metadata": {},
   "source": [
    "## Vector: a mathematical object determined by its length and direction.\n",
    "### Our goal in this unit is to develop the multivariable analogue of the derivative, which is not the partial derivative, but a vector (whose components are partial derivatives) called the ***gradient***."
   ]
  }
 ],
 "metadata": {
  "kernelspec": {
   "display_name": "Python 3",
   "language": "python",
   "name": "python3"
  },
  "language_info": {
   "codemirror_mode": {
    "name": "ipython",
    "version": 3
   },
   "file_extension": ".py",
   "mimetype": "text/x-python",
   "name": "python",
   "nbconvert_exporter": "python",
   "pygments_lexer": "ipython3",
   "version": "3.8.8"
  }
 },
 "nbformat": 4,
 "nbformat_minor": 5
}
