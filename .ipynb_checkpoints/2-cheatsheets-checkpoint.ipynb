{
 "cells": [
  {
   "cell_type": "markdown",
   "id": "20feb0ec-f5f6-4243-9d27-faea8ddeb229",
   "metadata": {},
   "source": [
    "# Unit 2: Geometry of Derivatives"
   ]
  },
  {
   "cell_type": "markdown",
   "id": "e0d2160c-9816-4abe-b6b2-8fde20babd0f",
   "metadata": {},
   "source": [
    "## Vector: a mathematical object determined by its length and direction.\n",
    "### Our goal in this unit is to develop the multivariable analogue of the derivative, which is not the partial derivative, but a vector (whose components are partial derivatives) called the ***gradient***.\n",
    "\n",
    "## Definition 2.1 A vector is something that has both magnitude (length) and direction.\n",
    "\n",
    "Example:\n",
    "\n",
    "### $$ \\vec{v} = \\langle -1, 1 \\rangle  $$\n",
    "### $$ \\vec{w} = \\langle -1, 1 \\rangle  $$\n",
    "then\n",
    "### $$ \\vec{v} = \\vec{w}  $$\n"
   ]
  },
  {
   "cell_type": "markdown",
   "id": "1169eec5-bc08-48a5-aaf7-aefa618a6ce7",
   "metadata": {},
   "source": [
    "## Definition 4.1 The magnitude (or norm, or Euclidean norm, or length) of a vector $\\vec{v}$ is equal to its length and is denoted by $\\lvert{\\vec{v}}\\rvert$.\n",
    "\n",
    "### the magnitude of the vector $\\vec{v} = \\langle v_1, v_2 \\rangle$ is given by\n",
    "# $$ \\lvert \\vec{v} \\rvert = \\sqrt{v_1^2 + v_2^2} $$"
   ]
  },
  {
   "cell_type": "markdown",
   "id": "840f9cb3-e8f0-4a4a-a77a-c7f4fd64cdd8",
   "metadata": {},
   "source": [
    "## Definition 5.1 A scalar is a (real or complex) number. \n",
    "\n",
    "### To multiply a vector $\\vec{v} = \\langle -1, 1 \\rangle$ by a scalar $c$, we multiply each component by $c$ as follows:\n",
    "\n",
    "# $$ c \\vec{v} = c \\langle v_1, v_2 \\rangle = \\langle c v_1, c v_2 \\rangle $$\n",
    "\n",
    "### If $\\vec{v}$ is in the same direction as $\\vec{w}$, then $\\vec{v} = \\lambda \\vec{w}$ for some positive number $\\lambda$.\n",
    "### If $\\vec{v}$ is in the opposite direction as $\\vec{w}$, then $\\vec{v} = \\lambda \\vec{w}$ for some negatice number $\\lambda$.\n",
    "\n",
    "## Definition 6.1 A vector $\\vec{v}$ is a unit vector if $\\lvert \\vec{v} \\rvert = 1$\n",
    "\n",
    "### Note on notation: If $\\vec{v}$ is any vector, then $\\hat{v}$ is a unit vector pointing in the same direction as $\\vec{v}$.\n",
    "\n",
    "### Definition 7.1 The vector $\\vec{v}$ has magnitude $\\lvert \\vec{v} \\rvert$ and direction $\\hat{v}$."
   ]
  },
  {
   "cell_type": "markdown",
   "id": "73c687e5-3599-48f9-bedd-319063308ed8",
   "metadata": {},
   "source": [
    "![Tangent Plane](img/vector-with-angle.png)"
   ]
  },
  {
   "cell_type": "markdown",
   "id": "1c04ecd8-9525-472a-9b0f-7fc5d2dd603f",
   "metadata": {},
   "source": [
    "## For vector $\\vec{v} = \\langle v_1, v_2 \\rangle$:\n",
    "# $$ \\theta = \\operatorname{arctan} ( \\frac{v_2}{v_1})  $$\n",
    "# $$ \\vec{v} = \\lvert \\vec{v} \\rvert \\hat{v} = \\lvert \\vec{v} \\rvert \\langle \\operatorname{cos}(\\theta), \\operatorname{sin} (\\theta) \\rangle $$"
   ]
  },
  {
   "cell_type": "code",
   "execution_count": null,
   "id": "64aedb8d-4719-46a0-9351-3277624b39d8",
   "metadata": {},
   "outputs": [],
   "source": []
  }
 ],
 "metadata": {
  "kernelspec": {
   "display_name": "Python 3",
   "language": "python",
   "name": "python3"
  },
  "language_info": {
   "codemirror_mode": {
    "name": "ipython",
    "version": 3
   },
   "file_extension": ".py",
   "mimetype": "text/x-python",
   "name": "python",
   "nbconvert_exporter": "python",
   "pygments_lexer": "ipython3",
   "version": "3.8.8"
  }
 },
 "nbformat": 4,
 "nbformat_minor": 5
}
