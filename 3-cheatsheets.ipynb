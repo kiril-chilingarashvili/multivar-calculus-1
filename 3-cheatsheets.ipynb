{
 "cells": [
  {
   "cell_type": "markdown",
   "id": "9aca9b97-546b-4101-98f0-2efe94b4dbc0",
   "metadata": {},
   "source": [
    "# Unit 3: Optimization"
   ]
  },
  {
   "cell_type": "code",
   "execution_count": null,
   "id": "79f113b0-94a1-4746-b39b-44b45c49abee",
   "metadata": {},
   "outputs": [],
   "source": []
  }
 ],
 "metadata": {
  "kernelspec": {
   "display_name": "Python 3",
   "language": "python",
   "name": "python3"
  },
  "language_info": {
   "codemirror_mode": {
    "name": "ipython",
    "version": 3
   },
   "file_extension": ".py",
   "mimetype": "text/x-python",
   "name": "python",
   "nbconvert_exporter": "python",
   "pygments_lexer": "ipython3",
   "version": "3.8.8"
  }
 },
 "nbformat": 4,
 "nbformat_minor": 5
}
