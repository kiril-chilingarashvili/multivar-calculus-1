{
 "cells": [
  {
   "cell_type": "markdown",
   "id": "9aca9b97-546b-4101-98f0-2efe94b4dbc0",
   "metadata": {},
   "source": [
    "# Unit 3: Optimization"
   ]
  },
  {
   "cell_type": "markdown",
   "id": "c0caab28-6876-42f6-af5e-f172368f6a0f",
   "metadata": {},
   "source": [
    "## Definition 2.1 \n",
    "\n",
    "### - To maximize a function, we find a point $(x, y)$ where the value $f(x, y)$ is greater than (or equal to) the value at any other (nearby) point.\n",
    "### - To minimize a function, we find a point $(x, y)$ where the value $f(x, y)$ is less than (or equal to) the value at any other (nearby) point."
   ]
  },
  {
   "cell_type": "markdown",
   "id": "f4edcc8c-65c8-4a6c-8bd1-c25c206f04b0",
   "metadata": {},
   "source": [
    "#### Given a function $z = f(x, y)$ of two variables, let's explore how the value of the function changes near a point $(x_0, y_0)$ if we change $x$ and $y$ slightly,\n",
    "\n",
    "## $$ x_0 \\leadsto x_0 + \\Delta x $$\n",
    "## $$ y_0 \\leadsto y_0 + \\Delta y $$\n",
    "\n",
    "### We approximate how $z$ has changed by the approximation formula\n",
    "# $$ \\Delta z = f_x(x_0, y_0) \\Delta x + f_y(x_0, y_0) \\Delta y $$\n",
    "\n",
    "### where where $f_x(x_0, y_0)$ and $f_y(x_0, y_0)$ are the value of the partial derivatives at the original point.\n",
    "\n",
    "### This approximation formula comes from the ***tangent plane approximation***.\n",
    "\n",
    "#### Recall that\n",
    "#### - $\\frac{\\partial f}{\\partial x} (x_0, y_0) = a $ is the slope of the curve formed by intersecting the surface $z = f(x, y)$ with the plane $ y = y_0$. This tangent line has the formula\n",
    "#### $$ z = z_0 + a (x - x_0) $$\n",
    "#### $$ y = y_0 $$\n",
    "#### where $z_0 = f(x_0, y_0)$\n",
    "![Tangent Plane](img/approximation-1.png)\n",
    "\n",
    "#### - $\\frac{\\partial f}{\\partial y} (x_0, y_0) = b $ is the slope of the curve formed by intersecting the surface $z = f(x, y)$ with the plane $ x = x_0$. This tangent line has the formula\n",
    "#### $$ z = z_0 + b (y - y_0) $$\n",
    "#### $$ X = x_0 $$\n",
    "#### where $z_0 = f(x_0, y_0)$\n",
    "![Tangent Plane](img/approximation-2.png)\n",
    "\n",
    "\n",
    "## The tangent plane is the plane that is tangent to the surface $z = f(x, y)$ at the point $(x_0, y_0)$ and contains both tangent lines.\n",
    "![Tangent Plane](img/approximation-3.png)\n",
    "\n",
    "### The approximation formula is saying that the change in $f$ can be approximated by looking in the change in the value of the tangent plane.\n",
    "# $$ \\Delta z = z - z_0 \\approx a (x - x_0) + b (y - y_0) $$"
   ]
  },
  {
   "cell_type": "markdown",
   "id": "13bcae8b-784c-4344-ad7f-0bed47b06e4a",
   "metadata": {},
   "source": [
    "## Definition 4.1 \n",
    "### Let $f(x, y)$ be a function of two variables. \n",
    "### A critical point of $f(x, y)$ is a point $(a, b)$ at which $ \\nabla f(a, b) = \\vec{0} $ . In other words, when $f_x (a, b) = 0$ and $f_y (a, b) = 0$ simultaneously.\n",
    "\n",
    "#### The partial derivatives being both zero is a necessary but not sufficient condition for a critical point to be a maximum or a minimum.\n",
    "\n",
    "#### Remark 4.3 You can also think about points where $\\nabla f$ is undefined as critical points given they are in the domain of original function."
   ]
  },
  {
   "cell_type": "markdown",
   "id": "e97bf6cf-253b-4620-96c5-8509b90e4b1a",
   "metadata": {},
   "source": [
    "## The second partial derivative of a function $f(x, y)$ with respect to $x$ is computed by taking the partial derivative with respect to $x$  twice. The notation for this is\n",
    "\n",
    "# $$ \\frac{\\partial}{\\partial x} \\left( \\frac{\\partial f}{\\partial x} \\right) = \\frac{\\partial^2 f}{\\partial x^2} = (f_x)_x = f_{xx} $$\n",
    "\n",
    "## We can also take second order derivatives in different variables. For example, if we first take the partial of $f$ with respect to $y$ and then take the partial with respect to $x$, we have\n",
    "\n",
    "# $$ \\frac{\\partial}{\\partial x} \\left( \\frac{\\partial f}{\\partial y} \\right) = \\frac{\\partial^2 f}{\\partial x \\partial y} = (f_y)_x = f_{yx} $$\n",
    "\n",
    "### Notice the two different notations (Leibniz and subscript). Using Leibniz notation, we first take the derivative of $f$ with respect to the variable written closest to $f$.\n",
    "\n",
    "# $$ \\frac{\\partial^2 f}{\\partial x \\partial y} = (f_y)_x = f_{yx} $$\n",
    "# $$ \\frac{\\partial^2 f}{\\partial y \\partial x} = (f_x)_y = f_{xy} $$\n",
    "\n",
    "## Important Fact: If a function has continuous second partial derivatives, then \n",
    "# $$ f_{yx} = f_{xy} $$"
   ]
  },
  {
   "cell_type": "markdown",
   "id": "d8000c6a-72fa-4659-99ea-a759be5b46c6",
   "metadata": {},
   "source": [
    "## Second derivative test\n",
    "\n",
    "## Let $(x_0, y_0)$ be a critical point of $f(x, y)$. Define\n",
    "\n",
    "# $$ A = f_{xx}(x_0, y_0) $$\n",
    "# $$ B = f_{xy}(x_0, y_0) = f_{yx}(x_0, y_0) $$\n",
    "# $$ C = f_{yy}(x_0, y_0) $$\n",
    "\n",
    "### Case 1: If $A C - B^2 < 0$, then $(x_0, y_0)$ is a saddle point .\n",
    "\n",
    "### Case 2: If $A C - B^2 > 0$, then there are two subcases.\n",
    "#### - If $A C - B^2 > 0$ and $A > 0$, then $(x_0, y_0)$ is a local minimum .\n",
    "#### - If $A C - B^2 > 0$ and $A < 0$, then $(x_0, y_0)$ is a local maximum .\n",
    "\n",
    "### Case 3: If $A C - B^2 = 0$, then the test is inconclusive."
   ]
  },
  {
   "cell_type": "markdown",
   "id": "a181f3b5-5aa9-42ef-935b-e2d3c8361e51",
   "metadata": {},
   "source": [
    "## Definition 9.1\n",
    "\n",
    "## For a function of two variables $f(x, y)$, the quadratic approximation near the point $(x_0, y_0)$ is given by\n",
    "\n",
    "# $$ f(x, y) \\approx \\underbrace{f(x_0, y_0) + f_x(x_0, y_0) (x - x_0) + f_y(x_0, y_0) (y - y_0)}_{\\text{linear part}} $$\n",
    "# $$ \\underbrace{+ \\frac{1}{2} f_{xx}(x_0, y_0) (x - x_0)^2 + f_{xy}(x_0, y_0) (x - x_0) (y - y_0) + \\frac{1}{2} f_{yy}(x_0, y_0) (y - y_0)^2}_{\\text{quadratic part}} $$\n",
    "\n",
    "### If $(x_0, y_0)$ is a critical point, then the above equation reduces to\n",
    "# $$ \\Delta f = f(x, y) - f(x_0, y_0) $$\n",
    "# $$ = \\frac{1}{2} f_{xx}(x_0, y_0) (x - x_0)^2 + f_{xy}(x_0, y_0) (x - x_0) (y - y_0) + \\frac{1}{2} f_{yy}(x_0, y_0) (y - y_0)^2 $$\n",
    "\n",
    "### The term $\\frac{1}{2} f_{xx}$ is the term $a = \\frac{A}{2}$ we saw before. The term $f_{xy} = b = B$, and $\\frac{1}{2} f_{yy} = \\frac{C}{2}$."
   ]
  },
  {
   "cell_type": "markdown",
   "id": "14c8b522-6931-4415-91f2-a145a4d2ffc3",
   "metadata": {},
   "source": [
    "## Definition 3.1 \n",
    "### - A bounded region in the plane is a region that fits inside of a rectangular region of finite width and finite height. \n",
    "### - A closed region is a region that includes its boundary."
   ]
  },
  {
   "cell_type": "markdown",
   "id": "ad39d9cb-4add-4129-82bf-3235ebb9fff8",
   "metadata": {},
   "source": [
    "## Definition 5.1 \n",
    "### - Finding the absolute maximum or minimum of a function restricted to a region  is referred to as constrained optimization. \n",
    "### - The boundary curve of  is often referred to as the constraint equation."
   ]
  },
  {
   "cell_type": "markdown",
   "id": "57091427-933e-4102-a33f-cee46ed6933c",
   "metadata": {},
   "source": [
    "## Theorem\n",
    "\n",
    "### If a function $f(x, y)$ of two variables is differentiable on a closed bounded region $R$, then $f(x, y)$ attains its absolute maximum (or absolute minimum) on R. Furthermore, either\n",
    "### - the absolute maximum (or absolute minimum) occurs at a critical point, or\n",
    "### - the absolute maximum (or absolute minimum) occurs on the boundary of $R$."
   ]
  },
  {
   "cell_type": "markdown",
   "id": "879fe6d4-a71c-4f84-b06c-08d2a9d9b9d8",
   "metadata": {},
   "source": [
    "## Remark 5.6\n",
    "\n",
    "### - In 18.01, the process involved finding critical points, and then comparing values of the function at critical points to the values at the boundary, which is two points.\n",
    "\n",
    "### - In 18.02 the process starts the same. We start by finding critical points. But now the boundary is a curve. So there are infinitely many points we have to consider. And so now we are going to start thinking about how we can identify maxima (or minima) along a boundary."
   ]
  },
  {
   "cell_type": "markdown",
   "id": "9836bb3e-ef7a-430c-a383-e095fc73f314",
   "metadata": {},
   "source": [
    "## Theorem \n",
    "### The maximum (or minimum) of a function $f(x,y)$ constrained to a level curve $g(x,y)=c$ occurs where the gradient of the function is parallel to the gradient of the constraint equation:\n",
    "# $$ \\nabla f = \\lambda \\nabla g $$\n",
    "###  for a real number $\\lambda$\n",
    "\n",
    "## Definition 7.1 \n",
    "### The scalar $\\lambda$ is called the ***Lagrange multiplier***.\n",
    "\n",
    "## Remark 7.2 \n",
    "### This process works for any function $f(x,y)$ along any curve $C$.\n",
    "### - Describe the curve $C$ as a level curve $g(x,y)=k$.\n",
    "### - Then the maximum of $f(x,y)$ along $C$ occurs where $\\nabla f=\\lambda \\nabla g$."
   ]
  },
  {
   "cell_type": "markdown",
   "id": "804cf03f-08c6-491d-8dd4-07e01ff688df",
   "metadata": {},
   "source": [
    "## Lagrange multipliers \n",
    "## A method used to optimize a function $f(x, y)$ (find the max or min) along a ***constraint*** curve $C$, where the curve can be described as a level curve $g(x, y) = k$ for some function $g(x, y)$. A summary of the steps is given below.\n",
    "### 1. Solve the following system of equations\n",
    "## $$ \\nabla f = \\lambda \\nabla g $$\n",
    "## $$ g(x, y) = k $$\n",
    "#### for $x$ and $y$. $\\lambda$ is called ***Lagrange Miltiplier***\n",
    "### 2. Compute the value of $f(x, y)$ at each point found in Step 1.\n",
    "### 3. Identify which points give the maxima and minima of $f(x, y)$.\n",
    "\n",
    "## Remark 8.1 \n",
    "#### Lagrange Multipliers is a method whose solution will always find the maxima and minima along a curve. However, this can still be an very hard problem! It turns a hard problem (finding the maximum subject to a constraint) into a potentially still very hard problem (you have to solve a non linear system of equations in Step 1). The examples that we give you to practice this method will be carefully constructed so that they can be solved by hand.\n",
    "\n"
   ]
  },
  {
   "cell_type": "markdown",
   "id": "ad81f323-0510-4a17-b789-c9e5d90e4a37",
   "metadata": {},
   "source": [
    "## Method for solving general constrained optimization problems\n",
    "### The process to solve a general constrained optimization problem is as follows. Suppose we want to find the absolute maximum (or minimum) of a differentiable function $f(x, y)$ on a closed and bounded region $R$.\n",
    "### 1. Check if $f(x, y)$ has any critical points in $R$ (i.e., check if $\\nabla f(x, y) = \\vec{0}$ inside $R$).\n",
    "### 2. Describe the boundary of $R$ as a level curve $g(x, y) = k$.\n",
    "### 3. Solve the following system of equations\n",
    "## $$ \\nabla f = \\lambda \\nabla g $$\n",
    "## $$ g(x, y) = k $$\n",
    "#### for $x$ and $y$. (The scalar $\\lambda$ is called the Lagrange multiplier .)\n",
    "### 4. Compute the value of $f(x, y)$ at each point found in Steps 1 and 3.\n",
    "### 5. Identify which points give the absolute maximum (or minimum) of $f(x, y)$."
   ]
  },
  {
   "cell_type": "code",
   "execution_count": null,
   "id": "16b28e69-3565-4975-9aa5-605bb12e1a6b",
   "metadata": {
    "tags": []
   },
   "outputs": [],
   "source": []
  },
  {
   "cell_type": "markdown",
   "id": "2351388c-c223-4da4-abe8-3bdafc096d26",
   "metadata": {},
   "source": []
  }
 ],
 "metadata": {
  "kernelspec": {
   "display_name": "Python 3",
   "language": "python",
   "name": "python3"
  },
  "language_info": {
   "codemirror_mode": {
    "name": "ipython",
    "version": 3
   },
   "file_extension": ".py",
   "mimetype": "text/x-python",
   "name": "python",
   "nbconvert_exporter": "python",
   "pygments_lexer": "ipython3",
   "version": "3.8.2"
  }
 },
 "nbformat": 4,
 "nbformat_minor": 5
}
