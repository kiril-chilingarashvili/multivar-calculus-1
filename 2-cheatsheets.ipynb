{
 "cells": [
  {
   "cell_type": "markdown",
   "id": "20feb0ec-f5f6-4243-9d27-faea8ddeb229",
   "metadata": {},
   "source": [
    "# Unit 2: Geometry of Derivatives"
   ]
  },
  {
   "cell_type": "markdown",
   "id": "e0d2160c-9816-4abe-b6b2-8fde20babd0f",
   "metadata": {},
   "source": [
    "## Vector: a mathematical object determined by its length and direction.\n",
    "### Our goal in this unit is to develop the multivariable analogue of the derivative, which is not the partial derivative, but a vector (whose components are partial derivatives) called the ***gradient***.\n",
    "\n",
    "## Definition 2.1 A vector is something that has both magnitude (length) and direction.\n",
    "\n",
    "# $$ \\vec{v} = \\langle v_1, v_2 \\rangle = v_1 \\hat{i} + v_2 \\hat{j} $$\n",
    "### where $\\hat{i}$, $\\hat{j}$ are unit vectors\n",
    "\n",
    "Example:\n",
    "\n",
    "### $$ \\vec{v} = \\langle -1, 1 \\rangle  $$\n",
    "### $$ \\vec{w} = \\langle -1, 1 \\rangle  $$\n",
    "then\n",
    "### $$ \\vec{v} = \\vec{w}  $$\n"
   ]
  },
  {
   "cell_type": "markdown",
   "id": "1169eec5-bc08-48a5-aaf7-aefa618a6ce7",
   "metadata": {},
   "source": [
    "## Definition 4.1 The magnitude (or norm, or Euclidean norm, or length) of a vector $\\vec{v}$ is equal to its length and is denoted by $\\lvert{\\vec{v}}\\rvert$.\n",
    "\n",
    "### the magnitude of the vector $\\vec{v} = \\langle v_1, v_2 \\rangle$ is given by\n",
    "# $$ \\lvert \\vec{v} \\rvert = \\sqrt{v_1^2 + v_2^2} $$"
   ]
  },
  {
   "cell_type": "markdown",
   "id": "840f9cb3-e8f0-4a4a-a77a-c7f4fd64cdd8",
   "metadata": {},
   "source": [
    "## Definition 5.1 A scalar is a (real or complex) number. \n",
    "\n",
    "### To multiply a vector $\\vec{v} = \\langle -1, 1 \\rangle$ by a scalar $c$, we multiply each component by $c$ as follows:\n",
    "\n",
    "# $$ c \\vec{v} = c \\langle v_1, v_2 \\rangle = \\langle c v_1, c v_2 \\rangle $$\n",
    "\n",
    "### If $\\vec{v}$ is in the same direction as $\\vec{w}$, then $\\vec{v} = \\lambda \\vec{w}$ for some positive number $\\lambda$.\n",
    "### If $\\vec{v}$ is in the opposite direction as $\\vec{w}$, then $\\vec{v} = \\lambda \\vec{w}$ for some negatice number $\\lambda$.\n",
    "\n",
    "## Definition 6.1 A vector $\\vec{v}$ is a unit vector if $\\lvert \\vec{v} \\rvert = 1$\n",
    "\n",
    "### Note on notation: If $\\vec{v}$ is any vector, then $\\hat{v}$ is a unit vector pointing in the same direction as $\\vec{v}$.\n",
    "\n",
    "### Definition 7.1 The vector $\\vec{v}$ has magnitude $\\lvert \\vec{v} \\rvert$ and direction $\\hat{v}$."
   ]
  },
  {
   "cell_type": "markdown",
   "id": "73c687e5-3599-48f9-bedd-319063308ed8",
   "metadata": {},
   "source": [
    "![Tangent Plane](img/vector-with-angle.png)"
   ]
  },
  {
   "cell_type": "markdown",
   "id": "1c04ecd8-9525-472a-9b0f-7fc5d2dd603f",
   "metadata": {},
   "source": [
    "## For vector $\\vec{v} = \\langle v_1, v_2 \\rangle$:\n",
    "# $$ \\theta = \\operatorname{arctan} ( \\frac{v_2}{v_1})  $$\n",
    "# $$ \\vec{v} = \\lvert \\vec{v} \\rvert \\hat{v} = \\lvert \\vec{v} \\rvert \\langle \\operatorname{cos}(\\theta), \\operatorname{sin} (\\theta) \\rangle $$\n",
    "# $$ \\hat{v} = \\frac{\\vec{v}}{\\lvert \\vec{v} \\rvert} $$"
   ]
  },
  {
   "cell_type": "markdown",
   "id": "e7a3cc7a-1d4f-4fa6-945e-df89740d512c",
   "metadata": {},
   "source": [
    "### Geometrically, we can add two vectors  and  by making a copy of one vector and putting it at the end of the other\n",
    "![Tangent Plane](img/vector-sum-1.png)\n",
    "### The sum of the two vectors is the vector that starts at the tail of $\\vec{v}$ and ends at the tip of the copy of $\\vec{w}$.\n",
    "### By considering the components of these vectors, we can see how this picture corresponds to a computation.\n",
    "\n",
    "![Tangent Plane](img/vector-sum-2.png)\n",
    "\n",
    "# $$ \\vec{v} + \\vec{w} = \\langle v_1 + w_1, v_2 + w_2 \\rangle $$\n",
    "\n",
    "### Vector addition is commutative:\n",
    "# $$ \\vec{v} + \\vec{w} = \\vec{w} + \\vec{v} $$\n",
    "\n",
    "### Vector subtruction:\n",
    "# $$ \\vec{v} - \\vec{w} = \\langle v_1 - w_1, v_2 - w_2 \\rangle = \\vec{v} + (-1) \\vec{w} $$"
   ]
  },
  {
   "cell_type": "markdown",
   "id": "7c11ed14-db83-45d7-a4c1-263a44ad55bd",
   "metadata": {},
   "source": [
    "## Definition 11.1 The dot product of two vectors $\\vec{v} = \\langle v_1, v_2 \\rangle$ and $\\vec{w} = \\langle w_1, w_2 \\rangle$ is defined as\n",
    "\n",
    "# $$ \\vec{v} \\cdot \\vec{w} = \\langle v_1, v_2 \\rangle \\cdot \\langle w_1, w_2 \\rangle = v_1 w_1 + v_2 w_2 $$\n",
    "\n"
   ]
  },
  {
   "cell_type": "markdown",
   "id": "ac73ce0c-2d11-43bd-a6a5-98354dfe51ee",
   "metadata": {},
   "source": [
    "![Tangent Plane](img/dot-product-1.png)\n",
    "\n",
    "# $$ \\vec{v} \\cdot \\vec{w} = \\lvert \\vec{v} \\rvert \\lvert \\vec{w} \\rvert \\operatorname{cos} (\\theta) $$\n",
    "# $$ \\operatorname{cos} (\\theta) = \\frac{\\vec{v} \\cdot \\vec{w}} {\\lvert \\vec{v} \\rvert \\lvert \\vec{w} \\rvert} $$"
   ]
  },
  {
   "cell_type": "markdown",
   "id": "86e93db1-fde7-452b-b0a1-89c341796c3f",
   "metadata": {},
   "source": [
    "## Theorem: A vector $\\vec{v}$ is perpendicular to a vector $\\vec{w}$ if and only if $\\vec{v} \\cdot \\vec{w} = 0$."
   ]
  },
  {
   "cell_type": "markdown",
   "id": "8f1a2398-3d0a-4cc1-922d-b719ecc74959",
   "metadata": {},
   "source": [
    "### Notation: $ \\vec{0} $ - vector of length zero - $ \\langle 0, 0 \\rangle$\n",
    "\n",
    "### Suppose we have three points in the plane: $P$, $Q$, and $R$. We write $\\vec{P Q}$ as the vector that connects $P$ to $Q$. Note that the vector that connects $Q$ to $P$ is the vector $\\vec{Q P}$ so that $\\vec{P Q} + \\vec{Q P} = \\vec{0}$ as vectors.\n",
    "### For example, if $P$ is the point $\\langle 1, 1 \\rangle$ and $Q$ is the point $\\langle 3, 2 \\rangle$, then the vector $\\vec{P Q}$ is given in coordinates by the vector that connects the point $P$ to the point $Q$, which is $ \\langle 3 - 1, 2 - 1 \\rangle = \\langle 2, 1 \\rangle $."
   ]
  },
  {
   "cell_type": "markdown",
   "id": "1904d393-6a68-4708-970b-8f2455ee218a",
   "metadata": {},
   "source": [
    "## The vector $ \\langle a, b \\rangle $ is normal to the line $a x + b y + c = 0$."
   ]
  },
  {
   "cell_type": "markdown",
   "id": "7598c6d8-e2d6-4515-b6b1-0cbdc2f1e835",
   "metadata": {},
   "source": [
    "## Decomposing vector $\\vec{u}$ into vectors $\\vec{a}$ and $\\vec{b}$\n",
    "\n",
    "![Tangent Plane](img/vector-decomposition.png)\n",
    "\n",
    "# $$ \\vec{v} = \\vec{a} + \\vec{b} $$\n",
    "### where\n",
    "\n",
    "### - $\\vec{a}$ is the component of $\\vec{u}$ in the $\\vec{u}$ direction, and\n",
    "### - $\\vec{b}$ is the component of $\\vec{u}$ perpendicular to the $\\vec{u}$ direction\n",
    "\n",
    "# $$ \\vec{a} = \\left( \\frac{\\vec{u} \\cdot \\vec{v}}{\\vec{u} \\cdot \\vec{u}} \\right) \\vec{u} $$\n",
    "# $$ \\vec{b} = \\vec{v} - \\vec{a} $$\n",
    "\n",
    "## For unit vector $\\hat{u}$:\n",
    "# $$ \\vec{a} = \\left( \\hat{u} \\cdot \\vec{v} \\right) \\hat{u} $$"
   ]
  },
  {
   "cell_type": "markdown",
   "id": "6c5f8827-551d-4808-bb8c-8e5c532aba23",
   "metadata": {},
   "source": [
    "## At any point $(x_0, y_0)$, the vector $\\langle f_x(x_0, y_0), f_y(x_0, y_0) \\rangle$ is perpendicular to the level curve of $f$ through $(x_0, y_0)$.\n",
    "\n",
    "## Definition 4.1\n",
    "## The vector $\\langle f_x, f_y \\rangle$ is called the gradient of $f$.\n",
    "## The notation for the gradient of $f$ is $\\nabla f$."
   ]
  },
  {
   "cell_type": "markdown",
   "id": "082b53f2-40fa-41d3-a85e-a5382a5976dc",
   "metadata": {},
   "source": [
    "## Definition 6.1\n",
    "\n",
    "## A vector field on the plane is a function that attaches a vector to each point $(x, y)$ in the plane.\n",
    "\n",
    "### Equivalent definitions:\n",
    "\n",
    "- A vector field is a function $F$ that maps each point in the plane to a vector:\n",
    "# $$ F(x, y) = \\langle F_1(x, y), F_2(x, y) \\rangle $$\n",
    " \n",
    "- A ***vector field*** is sometimes called a ***vector-valued function***.\n",
    "\n",
    "## Example: \n",
    "### The gradient exists at all points where the multivariable function $f$ is defined and differentiable. Therefore we can think of the gradient as a function that attached a vector to every point $(x, y)$. In other words, it is a vector field.\n",
    "\n",
    "![Tangent Plane](img/vector-field-gradient.png)\n",
    "\n",
    "#### Gradients are important because they tell us how quickly a function changes. In data science, machine learning algorithms refine models by finding the direction that minimizes an error function of the model's predictive capabilities in the fastest way possible. The key element to finding the direction which minimizes the error function fastest is the gradient."
   ]
  },
  {
   "cell_type": "markdown",
   "id": "5993066e-9c09-46d5-aab8-9961d6f7ad39",
   "metadata": {},
   "source": [
    "## Theorem\n",
    "\n",
    "## - The gradient of $f$ is normal to the level curves of $f$.\n",
    "## - $\\nabla f$ points in the direction of steepest increase.\n",
    "## - $ \\lvert \\nabla f \\rvert $ is the \"slope\" of the tangent plane to $f$ in the direction of the gradient."
   ]
  },
  {
   "cell_type": "markdown",
   "id": "9aaa323d-99fa-40bf-9a6c-c41f0b270fc3",
   "metadata": {},
   "source": [
    "# $$ f(x_0 + \\Delta x, y_0 + \\Delta y) \\approx f(x_0, y_0) + f_x(x_0, y_0) \\Delta x + f_y(x_0, y_0) \\Delta y $$\n",
    "# $$ \\vec{\\Delta } = \\langle \\Delta x, \\Delta y \\rangle $$\n",
    "# $$ \\nabla f = \\langle f_x(x_0, y_0), f_y(x_0, y_0) \\rangle $$\n",
    "# $$ f(x_0 + \\Delta x, y_0 + \\Delta y) \\approx f(x_0, y_0) + \\nabla f \\cdot \\vec{\\Delta}  $$"
   ]
  },
  {
   "cell_type": "markdown",
   "id": "0b64bbd6-7f0a-4d41-8b8a-a5064df4aa9c",
   "metadata": {},
   "source": [
    "## Linear approximation in the $y$ direction\n",
    "# $$ f(x, y+ \\Delta y) \\approx f(x, y) + f_y(x, y) \\Delta y \\text{ (3.98)} $$\n",
    "## Linear approximation in the $\\Delta s =\\hat{u}$ direction\n",
    "### Now suppose we are at the point $(x, y)$ and we want to move a small amount $\\Delta s$ in the direction of an arbitrary unit vector $\\hat{u}$. We will denote this move by the vector $\\vec{s}$ which lies along the unit vector $\\hat{u} = \\langle u_1, u_2 \\rangle$ and has magnitude $\\Delta s$.\n",
    "![Tangent Plane](img/directional-derivative-1.png)\n",
    "### Because $\\vec{s}$ is parallel to $\\hat{u}$, we know that $\\vec{s}$ is a scalar multiple of $\\hat{u}$. Since $\\lvert \\vec{s} \\rvert = \\Delta s$, we can say $\\vec{s} = (\\Delta s) \\hat{u}$. Then\n",
    "# $$ \\langle x, y \\rangle + \\vec{s} = \\langle x, y \\rangle + ( \\Delta s ) \\hat{u} \\text{ (3.100) } $$\n",
    "# $$ = \\langle x, y \\rangle + \\langle u_1 \\Delta s, u_2 \\Delta s \\rangle  \\text{ (3.101)}  $$\n",
    "# $$ = \\langle x + u_1 \\Delta s, y + u_2 \\Delta s \\rangle \\text{ (3.102) }  $$\n",
    "![Tangent Plane](img/directional-derivative-2.png)\n",
    "### Now we want to figure out how $f(x, y)$ changes when we move from $(x, y)$ to a point that is $\\Delta s$ units along $\\hat{u}$. This puts us at the end of the vector\n",
    "# $$ \\langle x, y \\rangle + \\vec{s} = \\langle x + u_1 \\Delta s, y + u_2 \\Delta s \\rangle $$\n",
    "### So the quantity we want to approximate is\n",
    "# $$ f(x + u_1 \\Delta s, y + u_2 \\Delta s) \\text{ (3.104)} $$\n",
    "### This gives\n",
    "# $$ f(x + u_1 \\Delta s, y + u_2 \\Delta s) \\approx f(x, y) + f_x u_1 \\Delta s + f_y u_2 \\Delta s \\text{ (3.105)} $$\n",
    "# $$ = f(x, y) + (f_x u_1  + f_y u_2) \\Delta s \\text{ (3.106)} $$\n",
    "# $$ = f(x, y) + D_{\\hat{u}} f \\Delta s $$"
   ]
  },
  {
   "cell_type": "markdown",
   "id": "cec4172a-1535-4503-bbf6-936735612e79",
   "metadata": {},
   "source": [
    "## Directional derivative in the $\\hat{u}$ direction\n",
    "### By thinking of the directional derivative as the rate of change of $f$ when we move a distance $\\Delta s$ in the direction of $\\hat{u}$, we have\n",
    "\n",
    "# $$ D_{\\hat{u}}f(x, y) = f_x u_1 + f_y u_2 \\text{ (3.107)} $$\n",
    "### Notice that we can also write this as the dot product\n",
    "# $$ D_{\\hat{u}}f(x, y) = \\nabla f \\cdot \\hat{u} \\text{ (3.108) } $$"
   ]
  },
  {
   "cell_type": "markdown",
   "id": "6386d9e5-3a22-495c-bb22-ddb14f68b6e4",
   "metadata": {},
   "source": [
    "## Definition 3.1\n",
    "## The directional derivative of a function $f(x, y)$ in the direction of the unit vector $\\hat{u}$ at the point $(x, y)$ is given by\n",
    "\n",
    "# $$ D_{\\hat{u}}f(x, y) = \\nabla f \\cdot \\hat{u} $$"
   ]
  },
  {
   "cell_type": "markdown",
   "id": "2fcef319-2d9d-4d23-a73a-7b7b32a68505",
   "metadata": {},
   "source": [
    "## Properties of the directional derivative\n",
    "\n",
    "### The directional derivative behaves in nearly identical ways as partial derivatives, and satisfies the same general properties.\n",
    "\n",
    "### - For a function $f$ and a real number $c$, we have $ D_{\\vec{u}} (c f) = c D_{\\vec{u}} f$ \n",
    "### - For functions $f$ and $g$, we have $ D_{\\vec{u}} (f + g) = D_{\\vec{u}} f + D_{\\vec{u}} g $\n",
    "### - For functions $f$ and $g$, we have $ D_{\\vec{u}} (f g) = g D_{\\vec{u}} f + f D_{\\vec{u}} g$"
   ]
  },
  {
   "cell_type": "code",
   "execution_count": null,
   "id": "6bff26c1-fb87-47ec-b1d7-ea5a200631d3",
   "metadata": {},
   "outputs": [],
   "source": []
  }
 ],
 "metadata": {
  "kernelspec": {
   "display_name": "Python 3",
   "language": "python",
   "name": "python3"
  },
  "language_info": {
   "codemirror_mode": {
    "name": "ipython",
    "version": 3
   },
   "file_extension": ".py",
   "mimetype": "text/x-python",
   "name": "python",
   "nbconvert_exporter": "python",
   "pygments_lexer": "ipython3",
   "version": "3.8.8"
  }
 },
 "nbformat": 4,
 "nbformat_minor": 5
}
