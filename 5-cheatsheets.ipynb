{
 "cells": [
  {
   "cell_type": "markdown",
   "id": "d4ccf96c-9253-4d71-acc7-a2445c63bc28",
   "metadata": {},
   "source": [
    "# Unit 5:"
   ]
  },
  {
   "cell_type": "markdown",
   "id": "e7467395-5f78-445c-8d9f-793aa4dd24fc",
   "metadata": {},
   "source": [
    "### Given a matrix $A$, we write $A^T$ for the matrix whose entry in row $i$ and column $j$ is given by the entry in row $j$ and column $i$ of $A$. This $A^T$ is called the ***transpose*** of $A$. For example:\n",
    "# $$ A = \\begin{pmatrix} 1 & 2 \\\\ 3 & 4 \\end{pmatrix} \\iff A^T = \\begin{pmatrix} 1 & 3 \\\\ 2 & 4 \\end{pmatrix} $$"
   ]
  },
  {
   "cell_type": "markdown",
   "id": "56abc87e-8815-4386-b63f-4bb6ab308ff4",
   "metadata": {},
   "source": [
    "### A square matrix $A$ is called ***orthogonal*** if\n",
    "# $$ A^T = A^{-1} $$"
   ]
  },
  {
   "cell_type": "code",
   "execution_count": null,
   "id": "eba56686-f63a-40a1-a321-854875e88f99",
   "metadata": {},
   "outputs": [],
   "source": []
  }
 ],
 "metadata": {
  "kernelspec": {
   "display_name": "Python 3",
   "language": "python",
   "name": "python3"
  },
  "language_info": {
   "codemirror_mode": {
    "name": "ipython",
    "version": 3
   },
   "file_extension": ".py",
   "mimetype": "text/x-python",
   "name": "python",
   "nbconvert_exporter": "python",
   "pygments_lexer": "ipython3",
   "version": "3.8.8"
  }
 },
 "nbformat": 4,
 "nbformat_minor": 5
}
