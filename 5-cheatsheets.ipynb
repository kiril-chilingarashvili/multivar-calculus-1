{
 "cells": [
  {
   "cell_type": "markdown",
   "id": "d4ccf96c-9253-4d71-acc7-a2445c63bc28",
   "metadata": {},
   "source": [
    "# Unit 5: Curves and Surfaces"
   ]
  },
  {
   "cell_type": "markdown",
   "id": "e7467395-5f78-445c-8d9f-793aa4dd24fc",
   "metadata": {},
   "source": [
    "### Given a matrix $A$, we write $A^T$ for the matrix whose entry in row $i$ and column $j$ is given by the entry in row $j$ and column $i$ of $A$. This $A^T$ is called the ***transpose*** of $A$. For example:\n",
    "# $$ A = \\begin{pmatrix} 1 & 2 \\\\ 3 & 4 \\end{pmatrix} \\iff A^T = \\begin{pmatrix} 1 & 3 \\\\ 2 & 4 \\end{pmatrix} $$"
   ]
  },
  {
   "cell_type": "markdown",
   "id": "56abc87e-8815-4386-b63f-4bb6ab308ff4",
   "metadata": {},
   "source": [
    "### A square matrix $A$ is called ***orthogonal*** if\n",
    "# $$ A^T = A^{-1} $$"
   ]
  },
  {
   "cell_type": "markdown",
   "id": "6ae8e146-57d6-47e3-84e9-90a73da4da2e",
   "metadata": {},
   "source": [
    "## Vector magnitude\n",
    "\n",
    "### The magnitude of a vector $\\vec{v} = \\langle v_1, v_, v_3 \\rangle is given by\n",
    "## $$ \\lvert \\vec{v} \\rvert = \\sqrt{v_1^2+v_2^2+v_3^2} $$"
   ]
  },
  {
   "cell_type": "markdown",
   "id": "913a52b0-2067-4e9f-a724-20b98abdc3c1",
   "metadata": {},
   "source": [
    "## Remark 2.3\n",
    "\n",
    "### ***Warning***: The formula for the magnitude in the definition only works because we write the coordinates of our vectors with respect to an orthonormal basis. \n",
    "### That is\n",
    "## $$ \\begin{pmatrix} v_1 \\\\ v_2 \\\\ v_3 \\end{pmatrix} = v_1 \\begin{pmatrix} 1 \\\\ 0 \\ 0 \\end{pmatrix} + v_2 \\begin{pmatrix} 0 \\\\ 1 \\\\ 0 \\end{pmatrix} + v_3 \\begin{pmatrix} 0 \\\\ 0 \\\\ 1 \\end{pmatrix} $$\n",
    "### where $\\begin{pmatrix} 1 \\\\ 0 \\\\ 0 \\end{pmatrix}$, $\\begin{pmatrix} 0 \\\\ 1 \\\\ 0 \\end{pmatrix}$, $\\begin{pmatrix} 0 \\\\ 0 \\\\ 1 \\end{pmatrix}$ are all unit length and mutually orthogonal. There are ways to write vectors with respect to generic bases that are not orthonormal, and this formula would not hold!"
   ]
  },
  {
   "cell_type": "markdown",
   "id": "948c69d3-aeb4-4281-8eee-c4240a049ed0",
   "metadata": {},
   "source": [
    "## Dot product\n",
    "\n",
    "### The dot product of vectors $\\vec{v} = \\langle v_1, v_2, v_3 \\rangle$ and $\\vec{w} = \\langle w_1, w_2, w_3 \\rangle$ is the scalar quantity\n",
    "## $$ \\vec{v} \\cdot \\vec{w} = v_1 w_1 + v_2 w_2 + v_3 w_3 $$\n",
    "### In 3D, we can also interpret the dot product as\n",
    "## $$ \\vec{v} \\cdot \\vec{w} = \\lvert \\vec{v} \\rvert \\lvert \\vec{w} \\rvert cos(\\theta) $$\n",
    "### where $\\theta$ is the angle between the two vectors (as measured within the plane that contains both vectors)."
   ]
  },
  {
   "cell_type": "markdown",
   "id": "94aeb9da-a889-4330-a2b5-7dce53775b2a",
   "metadata": {},
   "source": [
    "## Equations of planes\n",
    "\n",
    "### The equation\n",
    "## $$ 2 x + 2 y + z = 0 $$\n",
    "\n",
    "### is the equation for a plane. This equation can be written in terms of a “hidden dot product\"\n",
    "## $$ \\langle 2,2,1 \\rangle \\cdot \\langle x,y,z \\rangle = 0 $$\n",
    "\n",
    "### Therefore the following three statements are equivalent:\n",
    "### - A point $(x, y, z)$ lies on the plane defined by the equation $ 2 x + 2 y + z = 0 $\n",
    "### - $ \\langle 2,2,1 \\rangle \\cdot \\langle x,y,z \\rangle = 0 $\n",
    "### - $ \\langle x,y,z \\rangle $ is perpendicular to $\\langle 2,2,1 \\rangle$\n",
    "\n",
    "### For example to check the questions:\n",
    "### Do point $(1.5, -2, 1)$ lie on the plane $ 2 x + 2 y + z = 0 $?\n",
    "### We check if equation\n",
    "## $$ \\langle 2,2,1 \\rangle \\cdot \\langle 1.5,-2,1 \\rangle = 0 $$\n",
    "### is true, and if it is - then the point ***is on the plane***"
   ]
  },
  {
   "cell_type": "markdown",
   "id": "1b0243df-9465-43ac-8600-f6015c74d035",
   "metadata": {},
   "source": [
    "### - The equation $ax+by+cz=0$ describes the plane that is perpendicular to the vector $\\langle a,b,c \\rangle$ and passes through the origin $(0,0,0)$.\n",
    "### - The equation $ax+by+cz=0$ describes a plane that is perpendicular to the vector $\\langle a,b,c \\rangle$."
   ]
  },
  {
   "cell_type": "markdown",
   "id": "83dac610-0918-438d-9854-787b3accb69d",
   "metadata": {},
   "source": [
    "## Functions of three variables\n",
    "\n",
    "### A function of three variables $f(x, y, z)$ depends on three independent variables.\n",
    "\n",
    "### Definition 4.1\n",
    "### The domain of $f(x,y,z)$ is the set of points $(x,y,z)$ in 3D space such that $f$ is defined.\n",
    "\n",
    "### Examples 4.2\n",
    "### - The function $f(x,y,z)=2x+2y+z$ is defined for all points $(x,y,z)$ in 3 dimensional space. We say that the domain is $\\mathbb{R}^3$ (spoken as \"R\" \"3\").\n",
    "### - The domain of the function $f(x,y,z)=x^2+y^2+z^2$ is $\\mathbb{R}^3$.\n",
    "### - The domain of the function $f(x,y,z)=\\sqrt{1 - (x^2+y^2+z^2)}$ is the set of points $(x,y,z)$ such that $x^2+y^2+z^2 \\leq 1$. This set describes a solid ball of radius 1."
   ]
  },
  {
   "cell_type": "markdown",
   "id": "25bcf3fa-14c9-410b-a9ac-b7a98a024a11",
   "metadata": {},
   "source": [
    "## Visualizing function of three variables\n",
    "\n",
    "### We try to visualize a function $f(x,y,z)$ similarly to the way we used level curves or contour plots to understand functions of two variables.\n",
    "\n",
    "### Definition 4.3\n",
    "### For any real number $k$, we can consider the set of points $(x,y,z)$ such that the relation $f(x,y,z)=k$ holds. This set of points is known as a ***level surface*** of the function $f(x,y,z)$. For differentiable functions $f(x,y,z)$, its level surfaces will be smooth surfaces that sit in three-dimensional space."
   ]
  },
  {
   "cell_type": "markdown",
   "id": "dc6a18bc-b5c4-45c4-9a33-f365e1633184",
   "metadata": {},
   "source": [
    "### Examples 4.4\n",
    "\n",
    "### - The level surfaces of $f(x,y,z)=2x+2y+z$ are the parallel planes. The plane $2x+2y+z=k$ is the plane perpendicular to $ \\langle 2,2,1 \\rangle$ through the point $(0,0,k)$.\n",
    "\n",
    "![Level Surfaces 1](img/level-surf-1.png)\n",
    "\n",
    "### Lets find the level surfaces of the function $f(x,y,z)=x^2+y^2+z^2$.\n",
    "### - The surface $x^2+y^2+z^2=1$ is described as the set of points $(x,y,z)$ such that\n",
    "## $$ 1 = \\langle x,y,z \\rangle \\cdot \\langle x,y,z \\rangle = \\lvert \\langle x,y,z \\rangle \\rvert = 1 $$\n",
    "### Therefore this is the set of points $(x,y,z)$ such that the vector $\\langle x,y,z \\rangle$ has unit length. This exactly describes the unit sphere about the origin.\n",
    "### - The surface $x^2+y^2+z^2=2$ describes the sphere of radius $\\sqrt{2}$ centered at the origin.\n",
    "\n",
    "![Level Surfaces 2](img/level-surf-2.png)"
   ]
  },
  {
   "cell_type": "markdown",
   "id": "e99d85cf-b50b-4550-b671-548c33a6dd86",
   "metadata": {},
   "source": [
    "## Partial derivatives\n",
    "\n",
    "### Definition 5.1\n",
    "### Given a continuous function $f(x,y,z)$,\n",
    "### - The $x$-partial derivative is written as $\\frac{\\partial f}{\\partial x}$ or $f_x$, and is taken by taking the derivative with respect to $x$ while holding all other variables fixed.\n",
    "## $$ \\lim_{h \\to 0} \\frac{f(x + h, y, z) - f(x, y, z)}{h} $$\n",
    "### - The $y$-partial derivative is written as $\\frac{\\partial f}{\\partial y}$ or $f_y$, and is taken by taking the derivative with respect to $y$ while holding all other variables fixed.\n",
    "## $$ \\lim_{h \\to 0} \\frac{f(x, y + h, z) - f(x, y, z)}{h} $$\n",
    "### - The $z$-partial derivative is written as $\\frac{\\partial f}{\\partial z}$ or $f_z$, and is taken by taking the derivative with respect to $z$ while holding all other variables fixed.\n",
    "## $$ \\lim_{h \\to 0} \\frac{f(x, y, z + h) - f(x, y, z)}{h} $$\n",
    "\n",
    "### The partial derivatives measure how the function $f(x,y,z)$ changes as you change each variable independently. We can use these partial derivatives to get an overall approximation to the function in a small region about a point $(x_0,y_0,z_0)$."
   ]
  },
  {
   "cell_type": "markdown",
   "id": "56796079-15d9-4d2f-a6a4-97723e61b65b",
   "metadata": {},
   "source": [
    "## Gradient\n",
    "### Definition 5.2\n",
    "### The gradient of a function $f(x,y,z)$ is the vector field\n",
    "## $$ \\nabla f = \\langle f_x, f_y, f_z \\rangle $$"
   ]
  },
  {
   "cell_type": "markdown",
   "id": "a73f4479-050c-430d-abe1-ddcdf1d76bd7",
   "metadata": {},
   "source": [
    "## Theorem \n",
    "### The gradient of a function $f(x,y,z)$ is ***normal*** to the level surfaces $f(x,y,z)=c$.\n",
    "### Example 5.4\n",
    "### Let's consider the linear function $w=a_1 x+a_2 y+a_3 z$. The gradient is\n",
    "## $$ \\nabla w= \\langle a1,a2,a3 \\rangle $$\n",
    "### The level curves are the functions\n",
    "## $$ a_1 x+a_2 y+a_3 z = constant $$\n",
    "### These level curves are the equations of planes whose normal vector is $\\langle a_1,a_2,a_3 \\rangle$. Thus the normal vector is exactly the gradient."
   ]
  },
  {
   "cell_type": "markdown",
   "id": "ae0065c1-2af9-47c0-a0e5-4d3ee9cc9730",
   "metadata": {},
   "source": [
    "### Intuitively speaking, when a vector is normal to a surface at a point $p$, the vector points “straight out of the surface\" at $p$. It could also point “straight in to the surface\" depending on the orientation. Imagining the surface as approximated by a tangent plane at $p$, the normal vector will be the normal vector of this tangent plane.\n",
    "\n",
    "### Example 5.5\n",
    "### Question. \n",
    "### Let $S$ be the unit sphere $x^2+y^2+z^2=1$. Find a vector $\\vec{n}$  that is normal to $S$ at a point $(x,y,z)$ on the unit sphere.\n",
    "### Solution\n",
    "### The unit sphere is the level curve of height 1 of the function $f(x,y,z)=x^2+y^2+z^2$. The gradient of $f$ is\n",
    "## $$ \\nabla f(x,y,z) = \\langle 2x,2y,2z \\rangle $$\n",
    "### The gradient is normal to the level curves of $f$. In particular, it is normal to the unit sphere. Thus we have\n",
    "### - $ \\langle 2x,2y,2z \\rangle$ is normal to $S$ at $(x,y,z)$, or dividing by the scalar,\n",
    "### - $ \\langle x,y,z \\rangle $ is normal to S at (x,y,z)\n",
    "![Gradient](img/3-gradient.png)"
   ]
  },
  {
   "cell_type": "markdown",
   "id": "8f1f5d3f-45f3-49f9-abc6-21691ee53737",
   "metadata": {},
   "source": [
    "## Linear approximation\n",
    "### Definition 6.1\n",
    "### The linear approximation*** of a differentiable function $f(x,y,z)$ near a point $(x_0,y_0,z_0)$ is given by\n",
    "## $$ f(x_0 + \\Delta x, y_0 + \\Delta y, z_0 + \\Delta z) \\approx f(x_0, y_0, z_0) + f_x(x_0, y_0, z_0) \\Delta x + f_y(x_0, y_0, z_0) \\Delta y + f_z(x_0, y_0, z_0) \\Delta z $$\n",
    "\n",
    "### Alternatively, we can write this linear approximation in terms of $x$, $y$, and $z$ as:\n",
    "## $$ f(x, y, z) \\approx f(x_0, y_0, z_0) + f_x(x_0, y_0, z_0) (x - x_0) + f_y(x_0, y_0, z_0) (y - y_0) + f_z(x_0, y_0, z_0) (z - z_0) $$"
   ]
  },
  {
   "cell_type": "markdown",
   "id": "3e85c5eb-ccb5-4e3e-817c-c6573f3a43bd",
   "metadata": {},
   "source": [
    "### Remark 6.2\n",
    "### The linear approximation can be written more succinctly using the gradient notation.\n",
    "## $$ f(x_0 + \\Delta x, y_0 + \\Delta y, z_0 + \\Delta z) \\approx f(x_0, y_0, z_0) + \\nabla f(x_0, y_0, z_0) \\cdot \\langle \\Delta x, \\Delta y, \\Delta z \\rangle$$\n",
    "### Rewriting this as\n",
    "## $$ \\underbrace{f(x_0 + \\Delta x, y_0 + \\Delta y, z_0 + \\Delta z)}_{\\text{change in }f, \\Delta f} \\approx f(x_0, y_0, z_0) + \\nabla f(x_0, y_0, z_0) \\cdot \\langle \\Delta x, \\Delta y, \\Delta z \\rangle$$\n",
    "### we can express the change in $f$ near $(x_0,y_0,z_0)$ as\n",
    "## $$ \\Delta f \\approx f(x_0, y_0, z_0) + \\nabla f(x_0, y_0, z_0) \\cdot \\langle \\Delta x, \\Delta y, \\Delta z \\rangle$$\n",
    "\n"
   ]
  },
  {
   "cell_type": "markdown",
   "id": "e7a9b763-8c8e-4f85-b212-7f9bcea61d92",
   "metadata": {},
   "source": [
    "### Example 6.3\n",
    "### ***Question***: Find the equation of the tangent plane to the surface\n",
    "## $$ x^2 + y^2 - z^2 = 4 $$\n",
    "### at the point $(2, 1, 1)$\n",
    "### ***Solution***: The function $g(x,y,z)=x^2+y^2-z^2$ is a hyperboloid. We know that the gradient of the function $g(x,y,z)=x^2+y^2-z^2$ is normal to its level surface $g(x,y,z)=4$.\n",
    "### The gradient is:\n",
    "## $$ \\nabla g(x,y,z) = \\langle 2x,2y,-2z \\rangle $$\n",
    "## $$ \\nabla g(2,1,1) = \\langle 4,2,-2 \\rangle $$\n",
    "### This vector is both the normal vector to the level surface, as well as the normal vector to the tangent plane at $(2,1,1)$. So the equation of the tangent plane is the equation of a plane normal to this vector, which can be written as\n",
    "## $$ 4 x + 2 y - 2 z = c $$\n",
    "### where $c$ is a constant. To solve for the constant, we plug in a point that lies on the plane. In particular, the only point we know, which is $(2,1,1)$. This gives us\n",
    "## $$ 4 x + 2 y - 2 z = 8 + 2 - 2 = 8 $$\n",
    "### We can simplify the equation by dividing through by $2$ if we want.\n",
    "## $$ 2 x + y - z = 4 $$\n",
    "![Example](img/example-6-3.png)"
   ]
  },
  {
   "cell_type": "markdown",
   "id": "dc6ad291-2db6-4d6d-82da-62b73b60c565",
   "metadata": {},
   "source": [
    "## Theorem\n",
    "\n",
    "### The level plane of the linear approximation of a function $f(x,y,z)$ at a point $(x_0,y_0,z_0)$ is the plane $\\nabla f(x_0,y_0,z_0) \\cdot \\langle x,y,z \\rangle = \\nabla f(x_0,y_0,z_0) \\cdot \\langle x_0,y_0,z_0 \\rangle$, which is called the tangent plane at the point $(x_0,y_0,z_0)$."
   ]
  },
  {
   "cell_type": "markdown",
   "id": "b6f51ff8-1978-42ac-b6b5-b1136451e7e8",
   "metadata": {},
   "source": [
    "### Let's look at the level surface of a function $f(x_0,y_0,z_0)=c$. If we look at points $(x_0+\\Delta x,y_0+\\Delta y,z_0+ \\Delta z)$ that also lie on this level surface, we can use the approximation formula, which says that for $\\Delta x$, $\\Delta y$, and $\\Delta z$, the change in the function is approximately\n",
    "## $$ \\Delta f \\approx \\nabla \\cdot \\langle \\Delta x, \\Delta y, \\Delta z \\rangle $$\n",
    "\n",
    "### However, if we are staying within the level surface, this tells us that $\\Delta f=0$. That is, the condition that we are locally in the level surface, is equivalent to saying that\n",
    "## $$ 0 \\approx \\nabla f \\cdot \\langle \\Delta x, \\Delta y, \\Delta z \\rangle $$\n",
    "### We can rewrite this as\n",
    "## $$ 0 \\approx \\nabla f \\cdot \\langle x, y, z \\rangle - \\nabla f \\cdot \\langle x_0, y_0, z_0 \\rangle $$\n",
    "### Thus the plane defined by\n",
    "## $$ \\nabla f (x_0, y_0, z_0) \\cdot \\langle x, y, z \\rangle = \\nabla f (x_0, y_0, z_0) \\cdot \\langle x_0, y_0, z_0 \\rangle $$\n",
    "### This plane is called the ***tangent plane***. It is the linear approximation to the level surface $f(x,y,z)=c$ at the point $(x_0,y_0,z_0)$.\n",
    "### Observe that this is the 3 dimensional analogue of the fact that as we zoom in on any function of 2 variables $f(x,y)$, its level curves are closer and closer to the level curves of its tangent plane, which are parallel lines. That is, as we zoom in on a function of 3 variables $f(x,y,z)$, the level surfaces become indistinguishable from the parallel planes that are the level surfaces of the linear approximation."
   ]
  },
  {
   "cell_type": "markdown",
   "id": "40a58547-9e9e-4746-afa2-ec115a6b7996",
   "metadata": {},
   "source": [
    "## Definition 8.2\n",
    "### The ***critical points*** of a function $w=f(x,y,z)$ are the points ***in the domain of definition*** where the gradient is zero (meaning $\\nabla w = \\vec{0}$ ), or the gradient is undefined."
   ]
  },
  {
   "cell_type": "markdown",
   "id": "84a5673f-2a20-426c-a85f-e8af2905acc9",
   "metadata": {},
   "source": [
    "## Constrained optimization in 3 or more variables\n",
    "### How are level surfaces related to constrained optimization?\n",
    "### We wish to find the maximum and minimum value of a function $f(x,y,z)$ restricted to a surface defined by $g(x,y,z)=3$.\n",
    "![Constrain Optimization](img/constrained-optimization-3-var.png)\n",
    "\n",
    "### A function $f(x,y,z)$ has level surfaces $f(x,y,z)=c$. Five level surfaces are shown in the image above. The values of $c$ defining the level surfaces increase as $x$ decreases. The gray ellipsoid is the level surface defined by $g(x,y,z)=3$ such that $g(x,y,z)<3$ inside of the level surface, and $g(x,y,z)>3$ outside of the level surface.\n",
    "### Lagrange multipliers - The maximum and minimum of the function $f(x,y,z)$ restricted to the surface $g(x,y,z)=3$ is given at the locations where $\\nabla f = \\lambda \\nabla g$. That is, the normal vector to the constraint surface and the normal vector to the level surface of $f$ point in the same or opposite direction.\n",
    "### In fact, the maximum occurs at the point where $\\nabla f$ is pointing in the same direction as $\\nabla g$. And the minimum occurs at the point where $\\nabla f$ is in the opposite direction. At these locations, the tangent plane to the level surface of $f$ is exactly equal to the tangent plane to the surface defined by $g=3$.\n",
    "![Constrain Optimization](img/constrained-optimization-3-var-2.png)\n",
    "\n"
   ]
  },
  {
   "cell_type": "code",
   "execution_count": null,
   "id": "889b9783-5d00-42af-82d5-7e069914d38a",
   "metadata": {},
   "outputs": [],
   "source": []
  }
 ],
 "metadata": {
  "kernelspec": {
   "display_name": "Python 3",
   "language": "python",
   "name": "python3"
  },
  "language_info": {
   "codemirror_mode": {
    "name": "ipython",
    "version": 3
   },
   "file_extension": ".py",
   "mimetype": "text/x-python",
   "name": "python",
   "nbconvert_exporter": "python",
   "pygments_lexer": "ipython3",
   "version": "3.8.2"
  }
 },
 "nbformat": 4,
 "nbformat_minor": 5
}
