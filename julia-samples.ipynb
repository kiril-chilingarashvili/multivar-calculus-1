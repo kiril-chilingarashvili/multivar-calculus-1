{
 "cells": [
  {
   "cell_type": "code",
   "execution_count": 3,
   "id": "98523b56-af82-4c1d-9c77-7d9dfec67d17",
   "metadata": {},
   "outputs": [],
   "source": [
    "# import Pkg; Pkg.add(\"Symbolics\")"
   ]
  },
  {
   "cell_type": "code",
   "execution_count": 4,
   "id": "6a6f74bc-e116-41ae-a5a0-e9e4cea262cc",
   "metadata": {},
   "outputs": [
    {
     "ename": "LoadError",
     "evalue": "AssertionError: islinear",
     "output_type": "error",
     "traceback": [
      "AssertionError: islinear",
      "",
      "Stacktrace:",
      " [1] solve_for(eq::Num, var::Num; simplify::Bool, check::Bool)",
      "   @ Symbolics ~/.julia/packages/Symbolics/GAvUr/src/linear_algebra.jl:84",
      " [2] solve_for(eq::Num, var::Num)",
      "   @ Symbolics ~/.julia/packages/Symbolics/GAvUr/src/linear_algebra.jl:83",
      " [3] top-level scope",
      "   @ In[4]:17",
      " [4] eval",
      "   @ ./boot.jl:360 [inlined]",
      " [5] include_string(mapexpr::typeof(REPL.softscope), mod::Module, code::String, filename::String)",
      "   @ Base ./loading.jl:1116"
     ]
    }
   ],
   "source": [
    "using Symbolics\n",
    "\n",
    "@variables x y λ\n",
    "\n",
    "fxy = 4 * x + 4 * y # objective function\n",
    "gxy = x^2 + 4*y^2   # constraint function (= 4)\n",
    "\n",
    "gradF = Symbolics.gradient(fxy, [x; y])\n",
    "gradG = Symbolics.gradient(gxy, [x; y])\n",
    "\n",
    "eq = gradF - λ * gradG;\n",
    "\n",
    "l1 = Symbolics.solve_for(eq[1], λ) # λ in terms of x\n",
    "l2 = Symbolics.solve_for(eq[2], λ) # λ in terms of y\n",
    "\n",
    "## assertion error here\n",
    "Symbolics.solve_for(l1 - l2, x) # x in terms of y"
   ]
  },
  {
   "cell_type": "code",
   "execution_count": null,
   "id": "2b0831ef-9531-4302-88bc-aaaf0ed0a32a",
   "metadata": {},
   "outputs": [],
   "source": []
  }
 ],
 "metadata": {
  "kernelspec": {
   "display_name": "Julia 1.6.2",
   "language": "julia",
   "name": "julia-1.6"
  },
  "language_info": {
   "file_extension": ".jl",
   "mimetype": "application/julia",
   "name": "julia",
   "version": "1.6.2"
  }
 },
 "nbformat": 4,
 "nbformat_minor": 5
}
